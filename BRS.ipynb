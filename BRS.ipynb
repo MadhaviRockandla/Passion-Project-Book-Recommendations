{
 "cells": [
  {
   "cell_type": "code",
   "execution_count": null,
   "id": "ff3d0dc8-4492-4120-bbae-68a4379c5075",
   "metadata": {
    "pycharm": {
     "name": "#%%\n",
     "is_executing": true
    }
   },
   "outputs": [],
   "source": [
    "import re\n",
    "import pickle\n",
    "import operator\n",
    "import numpy as np\n",
    "import pandas as pd\n",
    "import seaborn as sns\n",
    "import matplotlib.pyplot as plt\n",
    "from collections import Counter\n",
    "from scipy.sparse import csr_matrix\n",
    "from pandas.api.types import is_numeric_dtype\n",
    "from sklearn.neighbors import NearestNeighbors\n",
    "from sklearn.feature_extraction import DictVectorizer\n",
    "from sklearn.metrics.pairwise import cosine_similarity\n",
    "from sklearn.feature_extraction.text import TfidfVectorizer\n",
    "\n",
    "import warnings\n",
    "warnings.filterwarnings(\"ignore\")"
   ]
  },
  {
   "cell_type": "code",
   "execution_count": null,
   "id": "4605e5ef-65f3-4c31-b1d9-6491f2581679",
   "metadata": {
    "pycharm": {
     "name": "#%%\n",
     "is_executing": true
    }
   },
   "outputs": [],
   "source": [
    "!pip install sklearn\n"
   ]
  },
  {
   "cell_type": "code",
   "execution_count": null,
   "id": "31e8ae42-3a60-44b4-b20e-8719be6c1615",
   "metadata": {
    "pycharm": {
     "name": "#%%\n"
    }
   },
   "outputs": [],
   "source": [
    "!pip3 install pandas"
   ]
  },
  {
   "cell_type": "markdown",
   "id": "2b64d163-2d1f-406e-ab9c-e1f06a57c04f",
   "metadata": {
    "pycharm": {
     "name": "#%% md\n"
    }
   },
   "source": [
    "Dataset"
   ]
  },
  {
   "cell_type": "code",
   "execution_count": null,
   "id": "ac3a8027-04fe-437a-a855-a9b41e6aa85b",
   "metadata": {
    "pycharm": {
     "name": "#%%\n",
     "is_executing": true
    }
   },
   "outputs": [],
   "source": [
    "books = pd.read_csv(\"BRS-Dataset/Books.csv\") ## 73.29 MB Dataset size\n",
    "users = pd.read_csv(\"BRS-Dataset/Users.csv\") ## 22.63 MB Dataset size\n",
    "ratings = pd.read_csv(\"BRS-Dataset/Book-Ratings.csv\") ## 11.02 MB Dataset size"
   ]
  },
  {
   "cell_type": "code",
   "execution_count": null,
   "id": "f4941742-87e8-4c71-a73b-696af50c04c9",
   "metadata": {
    "pycharm": {
     "name": "#%%\n"
    }
   },
   "outputs": [],
   "source": [
    "## Total size of this Data set is 106.94 MB\n",
    "\n",
    "print(\"Books Data:    \", books.shape)\n",
    "print(\"Users Data:    \", users.shape)\n",
    "print(\"Books-ratings: \", ratings.shape)"
   ]
  },
  {
   "cell_type": "markdown",
   "id": "e429b271-f06c-4669-b6fa-ee982735a5c8",
   "metadata": {
    "pycharm": {
     "name": "#%% md\n"
    }
   },
   "source": [
    "### Processing\n",
    "\n",
    "### Books Dataset Processing"
   ]
  },
  {
   "cell_type": "code",
   "execution_count": null,
   "id": "9bb145ff-6b0a-4ba3-8951-22013fb173b3",
   "metadata": {
    "pycharm": {
     "name": "#%%\n"
    }
   },
   "outputs": [],
   "source": [
    "## Printing the header of the column names\n",
    "print(\"Columns: \", list(books.columns))\n"
   ]
  },
  {
   "cell_type": "code",
   "execution_count": null,
   "id": "3dd91659-67eb-48ed-a789-d2a2a3f2f391",
   "metadata": {
    "pycharm": {
     "name": "#%%\n"
    }
   },
   "outputs": [],
   "source": [
    "# Exploring books dataset\n",
    "books"
   ]
  },
  {
   "cell_type": "code",
   "execution_count": null,
   "id": "f66edd17-f636-46d9-9de7-ffb3224dbcda",
   "metadata": {
    "pycharm": {
     "name": "#%%\n"
    }
   },
   "outputs": [],
   "source": [
    "\n",
    "#Renaming the Colimn names\n",
    "new_books = books.rename(columns={\"Image-URL-M\":\"Cover_Page\", \"Image-URL-S\":\"Book-URL\"})\n",
    "\n",
    "new_books.head()"
   ]
  },
  {
   "cell_type": "code",
   "execution_count": null,
   "id": "52d8417c-3de4-4328-9830-74fd6c7eeb0c",
   "metadata": {
    "pycharm": {
     "name": "#%%\n"
    }
   },
   "outputs": [],
   "source": [
    "## Drop URL columns\n",
    "new_books.drop(['Image-URL-L'], axis=1, inplace=True)\n",
    "new_books.head()"
   ]
  },
  {
   "cell_type": "code",
   "execution_count": null,
   "id": "e93ec746-e582-49d3-b144-7d758a4cdbab",
   "metadata": {
    "pycharm": {
     "name": "#%%\n"
    }
   },
   "outputs": [],
   "source": [
    "## Making Book-URL Clickable and show image for Coverpage\n",
    "\n",
    "def make_clickable(val):\n",
    "    return '<a target=\"_blank\" href=\"{}\">Amazon</a>'.format(val, val)\n",
    "\n",
    "def show_image(val):\n",
    "    return '<a href=\"{}\"><img src=\"{}\" width=50></img></a>'.format(val, val)\n",
    "\n",
    "\n",
    "new_books[~new_books[\"ISBN\"].isin(new_books)].head(10).style.format({'Book-URL': make_clickable, 'Cover_Page': show_image})\n"
   ]
  },
  {
   "cell_type": "code",
   "execution_count": null,
   "id": "9906cba8-a6c1-4695-ba17-c0f5d52eea58",
   "metadata": {
    "pycharm": {
     "name": "#%%\n"
    }
   },
   "outputs": [],
   "source": [
    "## Checking the datatypes of the column \n",
    "new_books.info()"
   ]
  },
  {
   "cell_type": "code",
   "execution_count": null,
   "id": "bfc06eb6-8f74-4db6-b784-3afa4b39bd51",
   "metadata": {
    "pycharm": {
     "name": "#%%\n"
    }
   },
   "outputs": [],
   "source": [
    "# What is the shape of this DataFrame? How many columns does each row have? How many rows are there?\n",
    "new_books.info()"
   ]
  },
  {
   "cell_type": "code",
   "execution_count": null,
   "id": "950ae04a-172a-4920-9a61-9f567a398402",
   "metadata": {
    "pycharm": {
     "name": "#%%\n"
    }
   },
   "outputs": [],
   "source": [
    "## Checking for null values\n",
    "new_books.isnull().sum() "
   ]
  },
  {
   "cell_type": "code",
   "execution_count": null,
   "id": "b3c1cecb-fe19-4ad8-93dc-95990358eeef",
   "metadata": {
    "pycharm": {
     "name": "#%%\n"
    }
   },
   "outputs": [],
   "source": [
    "## Drop URL columns\n",
    "new_books.drop(['Book-URL', 'Cover_Page'], axis=1, inplace=True)\n",
    "new_books.head()"
   ]
  },
  {
   "cell_type": "code",
   "execution_count": null,
   "id": "723e40f4-0154-4434-8d0b-8b6941d3c2cb",
   "metadata": {
    "pycharm": {
     "name": "#%%\n"
    }
   },
   "outputs": [],
   "source": [
    "## Checking the location for null values for Book-Author\n",
    "new_books.loc[new_books['Book-Author'].isnull(),:]"
   ]
  },
  {
   "cell_type": "code",
   "execution_count": null,
   "id": "46579eb1-8ef1-4273-a006-08f9baae4e6d",
   "metadata": {
    "pycharm": {
     "name": "#%%\n"
    }
   },
   "outputs": [],
   "source": [
    "## Checking the location for null values for Publisher\n",
    "new_books.loc[new_books['Publisher'].isnull(),:]"
   ]
  },
  {
   "cell_type": "code",
   "execution_count": null,
   "id": "5e19ce5d-ce75-4680-9f0d-d053ef6abe8c",
   "metadata": {
    "pycharm": {
     "name": "#%%\n"
    }
   },
   "outputs": [],
   "source": [
    "new_books.at[187689 ,'Book-Author'] = 'Other'\n",
    "\n",
    "new_books.at[128890 ,'Publisher'] = 'Other'\n",
    "new_books.at[129037 ,'Publisher'] = 'Other'"
   ]
  },
  {
   "cell_type": "code",
   "execution_count": null,
   "id": "066816d0-6266-432f-8ca8-14b6675c2b5d",
   "metadata": {
    "pycharm": {
     "name": "#%%\n"
    }
   },
   "outputs": [],
   "source": [
    "# Checking for column Year-of-publication\n",
    "new_books['Year-Of-Publication'].unique()"
   ]
  },
  {
   "cell_type": "code",
   "execution_count": null,
   "id": "27e18f61-2c56-4138-890a-952efd20edd3",
   "metadata": {
    "pycharm": {
     "name": "#%%\n"
    }
   },
   "outputs": [],
   "source": [
    "pd.set_option('display.max_colwidth', -1)"
   ]
  },
  {
   "cell_type": "code",
   "execution_count": null,
   "id": "2ca2cb94-05e3-49e8-ab36-eb4f46daba12",
   "metadata": {
    "pycharm": {
     "name": "#%%\n"
    }
   },
   "outputs": [],
   "source": [
    "## Checking the location  for DK Publishing Inc\n",
    "#investigating the rows having 'DK Publishing Inc' as yearOfPublication\n",
    "\n",
    "new_books.loc[new_books['Year-Of-Publication'] == 'DK Publishing Inc',:]"
   ]
  },
  {
   "cell_type": "code",
   "execution_count": null,
   "id": "b7d06e65-b5dc-4cf1-b132-67608d8e4dc3",
   "metadata": {
    "pycharm": {
     "name": "#%%\n"
    }
   },
   "outputs": [],
   "source": [
    "new_books.loc[new_books['Year-Of-Publication'] == 'Gallimard',:]"
   ]
  },
  {
   "cell_type": "code",
   "execution_count": null,
   "id": "182e478f-53d0-4601-b63e-0c195d5f0c28",
   "metadata": {
    "pycharm": {
     "name": "#%%\n"
    }
   },
   "outputs": [],
   "source": [
    "new_books.at[209538 ,'Publisher'] = 'DK Publishing Inc'\n",
    "new_books.at[209538 ,'Year-Of-Publication'] = 2000\n",
    "new_books.at[209538 ,'Book-Title'] = 'DK Readers: Creating the X-Men, How It All Began (Level 4: Proficient Readers)'\n",
    "new_books.at[209538 ,'Book-Author'] = 'Michael Teitelbaum'\n",
    "\n",
    "new_books.at[221678 ,'Publisher'] = 'DK Publishing Inc'\n",
    "new_books.at[221678 ,'Year-Of-Publication'] = 2000\n",
    "new_books.at[209538 ,'Book-Title'] = 'DK Readers: Creating the X-Men, How Comic Books Come to Life (Level 4: Proficient Readers)'\n",
    "new_books.at[209538 ,'Book-Author'] = 'James Buckley'\n",
    "\n",
    "new_books.at[220731 ,'Publisher'] = 'Gallimard'\n",
    "new_books.at[220731 ,'Year-Of-Publication'] = '2003'\n",
    "new_books.at[209538 ,'Book-Title'] = 'Peuple du ciel - Suivi de Les bergers '\n",
    "new_books.at[209538 ,'Book-Author'] = 'Jean-Marie Gustave Le ClÃ?Â©zio'"
   ]
  },
  {
   "cell_type": "code",
   "execution_count": null,
   "id": "abe012a0-8d24-4fa4-a00d-7e9f0dc4815b",
   "metadata": {
    "pycharm": {
     "name": "#%%\n"
    }
   },
   "outputs": [],
   "source": [
    "#Correcting the dtypes of yearOfPublication\n",
    "new_books['Year-Of-Publication'] =new_books['Year-Of-Publication'].astype(int)"
   ]
  },
  {
   "cell_type": "code",
   "execution_count": null,
   "id": "85bdcc93-69fe-4778-a8ed-77a9b18df4aa",
   "metadata": {
    "pycharm": {
     "name": "#%%\n"
    }
   },
   "outputs": [],
   "source": [
    "#Now it can be seen that yearOfPublication has all values as integers\n",
    "\n",
    "print(sorted(list(new_books['Year-Of-Publication'].unique())))"
   ]
  },
  {
   "cell_type": "code",
   "execution_count": null,
   "id": "2517bd5d-13a7-4082-9485-5a652c03d19a",
   "metadata": {
    "pycharm": {
     "name": "#%%\n"
    }
   },
   "outputs": [],
   "source": [
    "## Replacing Invalid years with max year\n",
    "count = Counter(new_books['Year-Of-Publication'])\n",
    "[k for k, v in count.items() if v == max(count.values())]"
   ]
  },
  {
   "cell_type": "code",
   "execution_count": null,
   "id": "d17408cf-fe84-4437-8081-6cd111de3e58",
   "metadata": {
    "pycharm": {
     "name": "#%%\n"
    }
   },
   "outputs": [],
   "source": [
    "new_books.loc[new_books['Year-Of-Publication'] > 2021, 'Year-Of-Publication'] = 2002\n",
    "new_books.loc[new_books['Year-Of-Publication'] == 0, 'Year-Of-Publication'] = 2002"
   ]
  },
  {
   "cell_type": "code",
   "execution_count": null,
   "id": "3be5ffd2-0abe-4092-97c9-d84d0509c907",
   "metadata": {
    "pycharm": {
     "name": "#%%\n"
    }
   },
   "outputs": [],
   "source": [
    "## Uppercasing all alphabets in ISBN\n",
    "new_books['ISBN'] = new_books['ISBN'].str.upper()"
   ]
  },
  {
   "cell_type": "code",
   "execution_count": null,
   "id": "72191e0b-9373-472c-9593-a2239bf514a5",
   "metadata": {
    "pycharm": {
     "name": "#%%\n"
    }
   },
   "outputs": [],
   "source": [
    "## Drop duplicate rows\n",
    "new_books.drop_duplicates(keep='last', inplace=True) \n",
    "new_books.reset_index(drop = True, inplace = True)"
   ]
  },
  {
   "cell_type": "code",
   "execution_count": null,
   "id": "5f06085f-aacc-4c97-a782-67d3c0e7da29",
   "metadata": {
    "pycharm": {
     "name": "#%%\n"
    }
   },
   "outputs": [],
   "source": [
    "new_books.info()"
   ]
  },
  {
   "cell_type": "code",
   "execution_count": null,
   "id": "b7ee5ac2-0894-4b94-8c04-0995f5340ff2",
   "metadata": {
    "pycharm": {
     "name": "#%%\n"
    }
   },
   "outputs": [],
   "source": [
    "new_books.head()\n"
   ]
  },
  {
   "cell_type": "markdown",
   "id": "78054afa-df62-43f7-9cca-4ca0546d2794",
   "metadata": {
    "pycharm": {
     "name": "#%% md\n"
    }
   },
   "source": [
    "### User Dataset Processing"
   ]
  },
  {
   "cell_type": "code",
   "execution_count": null,
   "id": "734fb060-f907-470c-85e0-860d764abd44",
   "metadata": {
    "pycharm": {
     "name": "#%%\n"
    }
   },
   "outputs": [],
   "source": [
    "## Checking the columns for User Dataset\n",
    "print(\"Columns: \", list(users.columns))\n",
    "users.head()"
   ]
  },
  {
   "cell_type": "code",
   "execution_count": null,
   "id": "fa45c9a1-decb-4ff2-a079-eb57d07712f2",
   "metadata": {
    "pycharm": {
     "name": "#%%\n"
    }
   },
   "outputs": [],
   "source": [
    "users.dtypes"
   ]
  },
  {
   "cell_type": "code",
   "execution_count": null,
   "id": "034b5eed-b652-441a-b78c-72eea5fc6b83",
   "metadata": {
    "pycharm": {
     "name": "#%%\n"
    }
   },
   "outputs": [],
   "source": [
    "## Checking null values\n",
    "print(users.isna().sum())"
   ]
  },
  {
   "cell_type": "code",
   "execution_count": null,
   "id": "3d0cbf10-b8e6-46b3-a8df-d763d08e17f3",
   "metadata": {
    "pycharm": {
     "name": "#%%\n"
    }
   },
   "outputs": [],
   "source": [
    "## Check for all values present in Age column\n",
    "#Age column has some invalid entries like nan, 0 and very high values like 100 and above\n",
    "print(sorted(list(users['Age'].unique())))"
   ]
  },
  {
   "cell_type": "code",
   "execution_count": null,
   "id": "d2942a00-5807-4ddb-81da-212beb488e52",
   "metadata": {
    "pycharm": {
     "name": "#%%\n"
    }
   },
   "outputs": [],
   "source": [
    "\n",
    "required = users[users['Age'] <= 90]\n",
    "required = required[required['Age'] >= 5]"
   ]
  },
  {
   "cell_type": "code",
   "execution_count": null,
   "id": "febe4838-ea4b-4351-b293-7ba3587d557b",
   "metadata": {
    "pycharm": {
     "name": "#%%\n"
    }
   },
   "outputs": [],
   "source": [
    "\n",
    "mean = round(required['Age'].mean())   \n",
    "mean"
   ]
  },
  {
   "cell_type": "code",
   "execution_count": null,
   "id": "015c5219-27f6-4406-84c4-2289fc2e5bd4",
   "metadata": {
    "pycharm": {
     "name": "#%%\n"
    }
   },
   "outputs": [],
   "source": [
    "users.loc[users['Age'] > 80, 'Age'] = mean    #outliers with age grater than 80 are substituted with mean \n",
    "users.loc[users['Age'] < 10, 'Age'] = mean    #outliers with age less than 10 years are substitued with mean\n",
    "users['Age'] = users['Age'].fillna(mean)      #filling null values with mean\n",
    "users['Age'] = users['Age'].astype(int)       #changing Datatype to int\n"
   ]
  },
  {
   "cell_type": "code",
   "execution_count": null,
   "id": "beb0c6f5-748c-45c2-ba9b-930a6cf40b1b",
   "metadata": {
    "pycharm": {
     "name": "#%%\n"
    }
   },
   "outputs": [],
   "source": [
    "#rechecking\n",
    "print(sorted(users.Age.unique()))\n"
   ]
  },
  {
   "cell_type": "code",
   "execution_count": null,
   "id": "aee50e73-a30d-4c8c-a53c-bc810c112c4d",
   "metadata": {
    "pycharm": {
     "name": "#%%\n"
    }
   },
   "outputs": [],
   "source": [
    "list_ = users.Location.str.split(', ')\n",
    "\n",
    "city = []\n",
    "state = []\n",
    "country = []\n",
    "count_no_state = 0    \n",
    "count_no_country = 0\n",
    "\n",
    "for i in range(0,len(list_)):\n",
    "    if list_[i][0] == ' ' or list_[i][0] == '' or list_[i][0]=='n/a' or list_[i][0] == ',':  #removing invalid entries too\n",
    "        city.append('other')\n",
    "    else:\n",
    "        city.append(list_[i][0].lower())\n",
    "\n",
    "    if(len(list_[i])<2):\n",
    "        state.append('other')\n",
    "        country.append('other')\n",
    "        count_no_state += 1\n",
    "        count_no_country += 1\n",
    "    else:\n",
    "        if list_[i][1] == ' ' or list_[i][1] == '' or list_[i][1]=='n/a' or list_[i][1] == ',':   #removing invalid entries \n",
    "            state.append('other')\n",
    "            count_no_state += 1            \n",
    "        else:\n",
    "            state.append(list_[i][1].lower())\n",
    "        \n",
    "        if(len(list_[i])<3):\n",
    "            country.append('other')\n",
    "            count_no_country += 1\n",
    "        else:\n",
    "            if list_[i][2] == ''or list_[i][1] == ',' or list_[i][2] == ' ' or list_[i][2] == 'n/a':\n",
    "                country.append('other')\n",
    "                count_no_country += 1\n",
    "            else:\n",
    "                country.append(list_[i][2].lower())\n",
    "        \n",
    "users = users.drop('Location',axis=1)\n",
    "\n",
    "temp = []\n",
    "for ent in city:\n",
    "    c = ent.split('/')            #handling cases where city/state entries from city list as state is already given \n",
    "    temp.append(c[0])\n",
    "\n",
    "df_city = pd.DataFrame(temp,columns=['City'])\n",
    "df_state = pd.DataFrame(state,columns=['State'])\n",
    "df_country = pd.DataFrame(country,columns=['Country'])\n",
    "\n",
    "users = pd.concat([users, df_city], axis=1)\n",
    "users = pd.concat([users, df_state], axis=1)\n",
    "users = pd.concat([users, df_country], axis=1)\n",
    "\n",
    "print(count_no_country)   #printing the number of countries didnt have any values \n",
    "print(count_no_state)     #printing the states which didnt have any values"
   ]
  },
  {
   "cell_type": "code",
   "execution_count": null,
   "id": "314657b4-34e1-4612-94e9-20543a7b12e2",
   "metadata": {
    "pycharm": {
     "name": "#%%\n"
    }
   },
   "outputs": [],
   "source": [
    "## Drop duplicate rows\n",
    "users.drop_duplicates(keep='last', inplace=True)\n",
    "users.reset_index(drop=True, inplace=True)\n"
   ]
  },
  {
   "cell_type": "code",
   "execution_count": null,
   "id": "c833acab-aac8-4acc-926c-8dca201ac325",
   "metadata": {
    "pycharm": {
     "name": "#%%\n"
    }
   },
   "outputs": [],
   "source": [
    "users.info()"
   ]
  },
  {
   "cell_type": "code",
   "execution_count": null,
   "id": "3f1bafaa-fddf-4795-97bb-c8e4f21f31ef",
   "metadata": {
    "pycharm": {
     "name": "#%%\n"
    }
   },
   "outputs": [],
   "source": [
    "users.head()"
   ]
  },
  {
   "cell_type": "code",
   "execution_count": null,
   "id": "b4e87492-2c49-4cc3-9417-1bb0847cf8a3",
   "metadata": {
    "pycharm": {
     "name": "#%%\n"
    }
   },
   "outputs": [],
   "source": [
    "users"
   ]
  },
  {
   "cell_type": "markdown",
   "id": "f02f6d45-1a26-4f43-a2fb-cc737ab97ad3",
   "metadata": {
    "pycharm": {
     "name": "#%% md\n"
    }
   },
   "source": [
    "### Book-Ratings Dataset Processing"
   ]
  },
  {
   "cell_type": "code",
   "execution_count": null,
   "id": "4d0fe1ff-368c-4675-b9fc-930f52ab6dd2",
   "metadata": {
    "pycharm": {
     "name": "#%%\n"
    }
   },
   "outputs": [],
   "source": [
    "ratings"
   ]
  },
  {
   "cell_type": "code",
   "execution_count": null,
   "id": "ec8dc51c-003e-431c-9734-e4e21ecfef0f",
   "metadata": {
    "pycharm": {
     "name": "#%%\n"
    }
   },
   "outputs": [],
   "source": [
    "## Checking the columns for Book-Ratings Dataset\n",
    "print(\"Columns: \", list(ratings.columns))\n",
    "ratings.head()"
   ]
  },
  {
   "cell_type": "code",
   "execution_count": null,
   "id": "250dfb9a-db3e-478d-bf39-58e55216c54e",
   "metadata": {
    "pycharm": {
     "name": "#%%\n"
    }
   },
   "outputs": [],
   "source": [
    "## Checking for null values\n",
    "ratings.isnull().sum() "
   ]
  },
  {
   "cell_type": "code",
   "execution_count": null,
   "id": "56ac0ee3-e67c-4d90-8381-187fb8d1b681",
   "metadata": {
    "pycharm": {
     "name": "#%%\n"
    }
   },
   "outputs": [],
   "source": [
    "## checking all ratings number or not\n",
    "print(is_numeric_dtype(ratings['Book-Rating']))"
   ]
  },
  {
   "cell_type": "code",
   "execution_count": null,
   "id": "af54e36b-8d23-4327-96de-a4f069e2c717",
   "metadata": {
    "pycharm": {
     "name": "#%%\n"
    }
   },
   "outputs": [],
   "source": [
    "## checking User-ID contains only number or not\n",
    "print(is_numeric_dtype(ratings['User-ID']))"
   ]
  },
  {
   "cell_type": "code",
   "execution_count": null,
   "id": "16872b12-6690-4d33-80f3-e8096da506d7",
   "metadata": {
    "pycharm": {
     "name": "#%%\n"
    }
   },
   "outputs": [],
   "source": [
    "## checking ISBN\n",
    "flag = 0\n",
    "k =[]\n",
    "reg = \"[^A-Za-z0-9]\"\n",
    "\n",
    "for x in ratings['ISBN']:\n",
    "    z = re.search(reg,x)    \n",
    "    if z:\n",
    "        flag = 1\n",
    "\n",
    "if flag == 1:\n",
    "    print(\"False\")\n",
    "else:\n",
    "    print(\"True\")"
   ]
  },
  {
   "cell_type": "code",
   "execution_count": null,
   "id": "b1de39ae-7ed7-4d6d-8edb-690db6372a2c",
   "metadata": {
    "pycharm": {
     "name": "#%%\n"
    }
   },
   "outputs": [],
   "source": [
    "## removing extra characters from ISBN (from ratings dataset) existing in books dataset\n",
    "bookISBN = new_books['ISBN'].tolist() \n",
    "reg = \"[^A-Za-z0-9]\" \n",
    "for index, row_Value in ratings.iterrows():\n",
    "    z = re.search(reg, row_Value['ISBN'])    \n",
    "    if z:\n",
    "        f = re.sub(reg,\"\",row_Value['ISBN'])\n",
    "        if f in bookISBN:\n",
    "            ratings.at[index , 'ISBN'] = f"
   ]
  },
  {
   "cell_type": "code",
   "execution_count": null,
   "id": "4a21675a-26cb-49d0-96cf-b3babffe019c",
   "metadata": {
    "pycharm": {
     "name": "#%%\n"
    }
   },
   "outputs": [],
   "source": [
    "## Uppercasing all alphabets in ISBN\n",
    "ratings['ISBN'] = ratings['ISBN'].str.upper()"
   ]
  },
  {
   "cell_type": "code",
   "execution_count": null,
   "id": "f15e934d-e32c-4bf2-9060-5230046b3955",
   "metadata": {
    "pycharm": {
     "name": "#%%\n"
    }
   },
   "outputs": [],
   "source": [
    "## Drop duplicate rows\n",
    "ratings.drop_duplicates(keep='last', inplace=True)\n",
    "ratings.reset_index(drop=True, inplace=True)"
   ]
  },
  {
   "cell_type": "code",
   "execution_count": null,
   "id": "14978726-02c3-4b4d-9bbe-69f594119b8e",
   "metadata": {
    "pycharm": {
     "name": "#%%\n"
    }
   },
   "outputs": [],
   "source": [
    "ratings.info()"
   ]
  },
  {
   "cell_type": "code",
   "execution_count": null,
   "id": "26099ed1-f181-4765-bf50-421999513501",
   "metadata": {
    "pycharm": {
     "name": "#%%\n"
    }
   },
   "outputs": [],
   "source": [
    "ratings.head()"
   ]
  },
  {
   "cell_type": "code",
   "execution_count": null,
   "id": "60df0a22-6c30-431d-bf5f-a90009900abf",
   "metadata": {
    "pycharm": {
     "name": "#%%\n"
    }
   },
   "outputs": [],
   "source": [
    "ratings"
   ]
  },
  {
   "cell_type": "markdown",
   "id": "77336656-4de7-4cbe-a787-66d76ffd1217",
   "metadata": {
    "pycharm": {
     "name": "#%% md\n"
    }
   },
   "source": [
    "### Merging all the Tables Together"
   ]
  },
  {
   "cell_type": "markdown",
   "id": "1f3b6f49-11e9-4714-b78a-87af4cf8c597",
   "metadata": {
    "pycharm": {
     "name": "#%% md\n"
    }
   },
   "source": [
    "### Merging Books, Users, Ratings table "
   ]
  },
  {
   "cell_type": "code",
   "execution_count": null,
   "id": "720da81e-0913-42cc-8eab-e47b57c61032",
   "metadata": {
    "pycharm": {
     "name": "#%%\n"
    }
   },
   "outputs": [],
   "source": [
    "dataset = pd.merge(new_books, ratings, on='ISBN', how='inner')\n",
    "dataset = pd.merge(dataset, users, on='User-ID', how='inner')\n",
    "dataset.info()"
   ]
  },
  {
   "cell_type": "markdown",
   "id": "4bffb66a-10d9-4c1b-9d65-e1822d167da7",
   "metadata": {
    "pycharm": {
     "name": "#%% md\n"
    }
   },
   "source": [
    "### Divide complete data on the basis of Implicit and Explicit ratings datasets"
   ]
  },
  {
   "cell_type": "code",
   "execution_count": null,
   "id": "1ca8cc4b-3d2f-4a27-b08a-8cf6794b2b3d",
   "metadata": {
    "pycharm": {
     "name": "#%%\n"
    }
   },
   "outputs": [],
   "source": [
    "## Explicit Ratings Dataset\n",
    "dataset1 = dataset[dataset['Book-Rating'] != 0]\n",
    "dataset1 = dataset1.reset_index(drop = True)\n",
    "dataset1.shape"
   ]
  },
  {
   "cell_type": "code",
   "execution_count": null,
   "id": "1550ce69-5feb-44a3-82ad-6d2549e41d08",
   "metadata": {
    "pycharm": {
     "name": "#%%\n"
    }
   },
   "outputs": [],
   "source": [
    "## Implicit Ratings Dataset\n",
    "dataset2 = dataset[dataset['Book-Rating'] == 0]\n",
    "dataset2 = dataset2.reset_index(drop = True)\n",
    "dataset2.shape"
   ]
  },
  {
   "cell_type": "code",
   "execution_count": null,
   "id": "7a5e61e1-52e5-4146-a0cd-a5bcc0b6cae2",
   "metadata": {
    "pycharm": {
     "name": "#%%\n"
    }
   },
   "outputs": [],
   "source": [
    "dataset1.head()"
   ]
  },
  {
   "cell_type": "code",
   "execution_count": null,
   "id": "3f32c3ef-4346-42c6-975b-596e8adeb7a1",
   "metadata": {
    "pycharm": {
     "name": "#%%\n"
    }
   },
   "outputs": [],
   "source": [
    "dataset1"
   ]
  },
  {
   "cell_type": "markdown",
   "id": "ed6c0361-bcef-48b5-bcb1-15a2245b9ed7",
   "metadata": {
    "pycharm": {
     "name": "#%% md\n"
    }
   },
   "source": [
    "### Data Visualization"
   ]
  },
  {
   "cell_type": "code",
   "execution_count": null,
   "id": "2a525692-8170-4ff2-b188-fe3d1f8b2ef2",
   "metadata": {
    "pycharm": {
     "name": "#%%\n"
    }
   },
   "outputs": [],
   "source": [
    "publications = {}\n",
    "for year in new_books['Year-Of-Publication']:\n",
    "    if str(year) not in publications:\n",
    "        publications[str(year)] = 0\n",
    "    publications[str(year)] +=1\n",
    "\n",
    "publications = {k:v for k, v in sorted(publications.items())}\n",
    "\n",
    "fig = plt.figure(figsize =(55, 15))\n",
    "plt.bar(list(publications.keys()),list(publications.values()), color = 'purple')\n",
    "plt.ylabel(\"Number of books published\")\n",
    "plt.xlabel(\"Year of Publication\")\n",
    "plt.title(\"Number of books published yearly\")\n",
    "plt.margins(x = 0)\n",
    "plt.show()"
   ]
  },
  {
   "cell_type": "code",
   "execution_count": null,
   "id": "7ce5123a-5680-471b-b319-7bd13cecbe81",
   "metadata": {
    "pycharm": {
     "name": "#%%\n"
    }
   },
   "outputs": [],
   "source": [
    "!pip3 install seaborn"
   ]
  },
  {
   "cell_type": "code",
   "execution_count": null,
   "id": "7d2c7387-3dcf-4423-93ed-44e5fe4ecde2",
   "metadata": {
    "pycharm": {
     "name": "#%%\n"
    }
   },
   "outputs": [],
   "source": [
    "sns.color_palette()"
   ]
  },
  {
   "cell_type": "code",
   "execution_count": null,
   "id": "e2d6d28c-cabf-4150-9215-6cd824ff318a",
   "metadata": {
    "pycharm": {
     "name": "#%%\n"
    }
   },
   "outputs": [],
   "source": [
    "## Sorting the order in Decending order\n",
    "\n",
    "plt.figure(figsize=(15,6))\n",
    "sns.countplot(y=\"Book-Author\", data=new_books,order=new_books['Book-Author'].value_counts().index[0:15],palette= 'CMRmap')\n",
    "plt.title(\"No of books by each author (Top 15)\")"
   ]
  },
  {
   "cell_type": "code",
   "execution_count": null,
   "id": "f5677863-176c-4d3c-a4d2-1b8c97488b4a",
   "metadata": {
    "pycharm": {
     "name": "#%%\n"
    }
   },
   "outputs": [],
   "source": [
    "sns.pairplot(ratings)"
   ]
  },
  {
   "cell_type": "code",
   "execution_count": null,
   "id": "ae32dde6-3d3a-4cb5-bd81-123c39b5adf5",
   "metadata": {
    "pycharm": {
     "name": "#%%\n"
    }
   },
   "outputs": [],
   "source": [
    "sns.pairplot(new_books)"
   ]
  },
  {
   "cell_type": "code",
   "execution_count": null,
   "id": "1d147883-4d29-4b2c-9554-f38be8f41e66",
   "metadata": {
    "pycharm": {
     "name": "#%%\n"
    }
   },
   "outputs": [],
   "source": [
    "sns.pairplot(users)"
   ]
  },
  {
   "cell_type": "code",
   "execution_count": null,
   "id": "41cddc9c-59b4-4028-a0b4-71d916d1c108",
   "metadata": {
    "pycharm": {
     "name": "#%%\n"
    }
   },
   "outputs": [],
   "source": [
    "plt.figure(figsize=(15,6))\n",
    "sns.countplot(x=\"Publisher\", data=new_books,order=new_books['Publisher'].value_counts().index[0:15])\n",
    "plt.title(\"No of books published each publisher (Top 15)\")"
   ]
  },
  {
   "cell_type": "code",
   "execution_count": null,
   "id": "9cf6e0d0-738d-4c07-8483-ebdfff57fd3d",
   "metadata": {
    "pycharm": {
     "name": "#%%\n"
    }
   },
   "outputs": [],
   "source": [
    "plt.figure(figsize=(8,6))\n",
    "sns.countplot(y=\"Book-Rating\", data=ratings, palette= 'dark')"
   ]
  },
  {
   "cell_type": "code",
   "execution_count": null,
   "id": "531fa3e8-451c-495c-a115-85f2453656fd",
   "metadata": {
    "pycharm": {
     "name": "#%%\n"
    }
   },
   "outputs": [],
   "source": [
    "## Explicit Ratings\n",
    "plt.figure(figsize=(8,6))\n",
    "data = ratings[ratings['Book-Rating'] != 0]\n",
    "sns.countplot(x=\"Book-Rating\", data=data, palette= 'winter_r')\n",
    "plt.title(\"Explicit Ratings\")"
   ]
  },
  {
   "cell_type": "code",
   "execution_count": null,
   "id": "05d6cca7-ff9c-4129-a34d-45a42a59bbc7",
   "metadata": {
    "pycharm": {
     "name": "#%%\n"
    }
   },
   "outputs": [],
   "source": [
    "plt.figure(figsize=(8,6))\n",
    "users.Age.hist(bins=[10*i for i in range(1, 10)])     \n",
    "plt.title('Age Distribution')\n",
    "plt.xlabel('Age')\n",
    "plt.ylabel('Count')\n",
    "plt.show()\n",
    "\n"
   ]
  },
  {
   "cell_type": "code",
   "execution_count": null,
   "id": "7419f7a3-5038-4386-be96-ea3d2e5e7436",
   "metadata": {
    "pycharm": {
     "name": "#%%\n"
    }
   },
   "outputs": [],
   "source": [
    "plt.figure(figsize=(20,6))\n",
    "sns.countplot(x=\"City\", data=users,order=users['City'].value_counts().index[0:15],palette= 'vlag')\n",
    "plt.title(\"No of readers from each city (Top 15)\")"
   ]
  },
  {
   "cell_type": "code",
   "execution_count": null,
   "id": "ddb5557f-7a89-465f-ad09-e590fafa83b9",
   "metadata": {
    "pycharm": {
     "name": "#%%\n"
    }
   },
   "outputs": [],
   "source": [
    "plt.figure(figsize=(20,6))\n",
    "sns.countplot(y=\"State\", data=users,order=users['State'].value_counts().index[0:15],palette= 'terrain_r')\n",
    "plt.title(\"No of readers from each state (Top 15)\")"
   ]
  },
  {
   "cell_type": "code",
   "execution_count": null,
   "id": "6e6db5b5-7990-4f16-ac60-a03b53c99826",
   "metadata": {
    "pycharm": {
     "name": "#%%\n"
    }
   },
   "outputs": [],
   "source": [
    "plt.figure(figsize=(15,8))\n",
    "sns.countplot(x=\"Country\", data=users, order=users['Country'].value_counts().index[0:10],palette= 'dark')\n",
    "plt.title(\"No of readers from each country (Top 10)\")"
   ]
  },
  {
   "cell_type": "code",
   "execution_count": null,
   "id": "987e591c-e641-4fcb-a118-1cb4f0a2e37a",
   "metadata": {
    "pycharm": {
     "name": "#%%\n"
    }
   },
   "outputs": [],
   "source": [
    "data=users[users['Country']=='usa']\n",
    "plt.figure(figsize=(20,6))\n",
    "sns.countplot(x=\"State\", data=data,order=data['State'].value_counts().index[0:15],palette= 'tab20c')\n",
    "plt.title(\"No of readers from states of USA (Top 15)\")"
   ]
  },
  {
   "cell_type": "code",
   "execution_count": null,
   "id": "2553798e-cc93-4eb3-8f2f-1fa803a66a3d",
   "metadata": {
    "pycharm": {
     "name": "#%%\n"
    }
   },
   "outputs": [],
   "source": [
    "plt.figure(figsize=(15,8))\n",
    "sns.countplot(y=\"Book-Title\", data=dataset, order=dataset['Book-Title'].value_counts().index[0:15],palette= 'spring_r')\n",
    "plt.title(\"Number of Ratings for a book (Top 15)\")"
   ]
  },
  {
   "cell_type": "markdown",
   "id": "53375a96-4623-4ba2-92d4-3fe5855dc08b",
   "metadata": {
    "pycharm": {
     "name": "#%% md\n"
    }
   },
   "source": [
    "### Book Recommondation System"
   ]
  },
  {
   "cell_type": "code",
   "execution_count": null,
   "id": "a6dbddfe-d4a6-4a48-9386-cd304b9baf59",
   "metadata": {
    "pycharm": {
     "name": "#%%\n"
    }
   },
   "outputs": [],
   "source": [
    "bookName = input(\"Enter a book name: \")\n",
    "number = int(input(\"Enter number of books to recommend: \"))\n",
    "\n"
   ]
  },
  {
   "cell_type": "markdown",
   "id": "f2680deb-c597-4721-be92-29fe2b6d0789",
   "metadata": {
    "pycharm": {
     "name": "#%% md\n"
    }
   },
   "source": [
    "### Popular Books in the Collection"
   ]
  },
  {
   "cell_type": "code",
   "execution_count": null,
   "id": "592f538c-cb2d-44f9-be79-424f1e886636",
   "metadata": {
    "pycharm": {
     "name": "#%%\n"
    }
   },
   "outputs": [],
   "source": [
    "def popularity_based(dataframe, n):\n",
    "    if n >= 1 and n <= len(dataframe):\n",
    "        data = pd.DataFrame(dataframe.groupby('ISBN')['Book-Rating'].count()).sort_values('Book-Rating', ascending=False).head(n)\n",
    "        result = pd.merge(data, new_books, on='ISBN', left_index = False)\n",
    "        return result\n",
    "    return \"Invalid number of books entered!!\""
   ]
  },
  {
   "cell_type": "code",
   "execution_count": null,
   "id": "be5fce59-142f-4aa4-b1c7-d3106c86a0ab",
   "metadata": {
    "pycharm": {
     "name": "#%%\n"
    }
   },
   "outputs": [],
   "source": [
    "print(\"Top\", number, \"Popular books are: \")\n",
    "popularity_based(dataset1, number)"
   ]
  },
  {
   "cell_type": "markdown",
   "id": "593753bb-ef2c-47ce-9bd5-bbc1d2a7a9c6",
   "metadata": {
    "pycharm": {
     "name": "#%% md\n"
    }
   },
   "source": [
    "### Popular Books in the given place"
   ]
  },
  {
   "cell_type": "code",
   "execution_count": null,
   "id": "0b3ac80e-e4b1-4973-9470-8544e1ba7ba7",
   "metadata": {
    "pycharm": {
     "name": "#%%\n"
    }
   },
   "outputs": [],
   "source": [
    "def search_unique_places(dataframe, place):\n",
    "    place = place.lower()\n",
    "\n",
    "    if place in list(dataframe['City'].unique()):\n",
    "        return dataframe[dataframe['City'] == place]\n",
    "    elif place in list(dataframe['State'].unique()):\n",
    "        return dataframe[dataframe['State'] == place]\n",
    "    elif place in list(dataframe['Country'].unique()):\n",
    "        return dataframe[dataframe['Country'] == place]\n",
    "    else:\n",
    "        return \"Invalid Entry\""
   ]
  },
  {
   "cell_type": "code",
   "execution_count": null,
   "id": "a3f52de4-583d-4761-b297-ec29828a7937",
   "metadata": {
    "pycharm": {
     "name": "#%%\n"
    }
   },
   "outputs": [],
   "source": [
    "place = input(\"Enter the name of place: \")\n",
    "data = search_unique_places(dataset1, place)\n",
    "\n",
    "if isinstance(data, pd.DataFrame):\n",
    "    data = popularity_based(data, number)\n",
    "\n",
    "data"
   ]
  },
  {
   "cell_type": "markdown",
   "id": "fee82773-05a7-4b3c-8d3b-a20b2e576d46",
   "metadata": {
    "pycharm": {
     "name": "#%% md\n"
    }
   },
   "source": [
    "### Books by same author, publisher of given book name"
   ]
  },
  {
   "cell_type": "code",
   "execution_count": null,
   "id": "c8f04643-8e9b-485d-bda6-f5beb8fe4077",
   "metadata": {
    "pycharm": {
     "name": "#%%\n"
    }
   },
   "outputs": [],
   "source": [
    "def printBook(k, n):\n",
    "    z = k['Book-Title'].unique()\n",
    "    for x in range(len(z)):\n",
    "        print(z[x])\n",
    "        if x >= n-1:\n",
    "            break"
   ]
  },
  {
   "cell_type": "code",
   "execution_count": null,
   "id": "b5c525cf-b0d5-4a8f-ae49-88c6dbb01fa8",
   "metadata": {
    "pycharm": {
     "name": "#%%\n"
    }
   },
   "outputs": [],
   "source": [
    "def get_books(dataframe, name, n):\n",
    "    print(\"\\nBooks by same Author:\\n\")\n",
    "    au = dataframe['Book-Author'].unique()\n",
    "\n",
    "    data = dataset2[dataset2['Book-Title'] != name]\n",
    "\n",
    "    if au[0] in list(data['Book-Author'].unique()):\n",
    "        k2 = data[data['Book-Author'] == au[0]]\n",
    "    k2 = k2.sort_values(by=['Book-Rating'])\n",
    "    printBook(k2, n)\n",
    "\n",
    "    print(\"\\n\\nBooks by same Publisher:\\n\")\n",
    "    au = dataframe['Publisher'].unique()\n",
    "\n",
    "    if au[0] in list(data['Publisher'].unique()):\n",
    "        k2 = pd.DataFrame(data[data['Publisher'] == au[0]])\n",
    "    k2=k2.sort_values(by=['Book-Rating']) \n",
    "    printBook(k2, n)"
   ]
  },
  {
   "cell_type": "code",
   "execution_count": null,
   "id": "5c962db3-5802-432f-8114-852d7cae360c",
   "metadata": {
    "pycharm": {
     "name": "#%%\n"
    }
   },
   "outputs": [],
   "source": [
    "if bookName in list(dataset1['Book-Title'].unique()):\n",
    "    d = dataset2[dataset2['Book-Title'] == bookName]\n",
    "    get_books(d, bookName, number)\n",
    "else:\n",
    "    print(\"Invalid Book Name!!\")"
   ]
  },
  {
   "cell_type": "markdown",
   "id": "8ff5d065-f2bd-463e-9980-24ebf2dea8d2",
   "metadata": {
    "pycharm": {
     "name": "#%% md\n"
    }
   },
   "source": [
    "### Books Popular by Year"
   ]
  },
  {
   "cell_type": "code",
   "execution_count": null,
   "id": "b7b7cbd2-6909-4908-92b6-7854cb7be2c6",
   "metadata": {
    "pycharm": {
     "name": "#%%\n"
    }
   },
   "outputs": [],
   "source": [
    "data = pd.DataFrame(dataset1.groupby('ISBN')['Book-Rating'].count()).sort_values('Book-Rating', ascending=False)\n",
    "data = pd.merge(data, new_books, on='ISBN', left_index = False)\n",
    "\n",
    "years = set()\n",
    "indices = []\n",
    "for ind, row in data.iterrows():\n",
    "    if row['Year-Of-Publication'] in years:\n",
    "        indices.append(ind)\n",
    "    else:\n",
    "        years.add(row['Year-Of-Publication'])\n",
    "\n",
    "data = data.drop(indices)\n",
    "data = data.drop('Book-Rating', axis = 1)\n",
    "data = data.sort_values('Year-Of-Publication', ascending=False)\n",
    "\n",
    "pd.set_option(\"display.max_rows\", None, \"display.max_columns\", None)\n",
    "data"
   ]
  },
  {
   "cell_type": "markdown",
   "id": "8a6241a4-8e0e-42c7-b33e-6d08a56f4958",
   "metadata": {
    "pycharm": {
     "name": "#%% md\n"
    }
   },
   "source": [
    "###  Collaborative Filtering \n"
   ]
  },
  {
   "cell_type": "markdown",
   "id": "2e421389-9fb7-4f86-a348-b7a31e179b02",
   "metadata": {
    "pycharm": {
     "name": "#%% md\n"
    }
   },
   "source": [
    "### Selecting books with total ratings equals to or more than 50"
   ]
  },
  {
   "cell_type": "code",
   "execution_count": null,
   "id": "9c7b7329-5972-4399-8130-0e909aaa138f",
   "metadata": {
    "pycharm": {
     "name": "#%%\n"
    }
   },
   "outputs": [],
   "source": [
    "df = pd.DataFrame(dataset1['Book-Title'].value_counts())\n",
    "df['Total-Ratings'] = df['Book-Title']\n",
    "df['Book-Title'] = df.index\n",
    "df.reset_index(level=0, inplace=True)\n",
    "df = df.drop('index',axis=1)\n",
    "\n",
    "df = dataset1.merge(df, left_on = 'Book-Title', right_on = 'Book-Title', how = 'left')\n",
    "df = df.drop(['Year-Of-Publication','Publisher','Age','City','State','Country'], axis=1)\n",
    "\n",
    "popularity_threshold = 50\n",
    "popular_book = df[df['Total-Ratings'] >= popularity_threshold]\n",
    "popular_book = popular_book.reset_index(drop = True)"
   ]
  },
  {
   "cell_type": "markdown",
   "id": "cecb2e4f-d5c2-467f-8b00-11a11db65536",
   "metadata": {
    "pycharm": {
     "name": "#%% md\n"
    }
   },
   "source": [
    "### User - Item Collaborative Filtering"
   ]
  },
  {
   "cell_type": "code",
   "execution_count": null,
   "id": "aa4c9789-e131-4922-99f2-59e9ad02baa6",
   "metadata": {
    "pycharm": {
     "name": "#%%\n"
    }
   },
   "outputs": [],
   "source": [
    "testdf = pd.DataFrame()\n",
    "testdf['ISBN'] = popular_book['ISBN']\n",
    "testdf['Book-Rating'] = popular_book['Book-Rating']\n",
    "testdf['User-ID'] = popular_book['User-ID']\n",
    "testdf = testdf[['User-ID','Book-Rating']].groupby(testdf['ISBN'])"
   ]
  },
  {
   "cell_type": "code",
   "execution_count": null,
   "id": "10cc0768-1e5e-4730-9049-e69c8b6aeb42",
   "metadata": {
    "pycharm": {
     "name": "#%%\n"
    }
   },
   "outputs": [],
   "source": [
    "listOfDictonaries=[]\n",
    "indexMap = {}\n",
    "reverseIndexMap = {}\n",
    "ptr=0\n",
    "\n",
    "for groupKey in testdf.groups.keys():\n",
    "    tempDict={}\n",
    "    groupDF = testdf.get_group(groupKey)\n",
    "    for i in range(0,len(groupDF)):\n",
    "        tempDict[groupDF.iloc[i,0]] = groupDF.iloc[i,1]\n",
    "    indexMap[ptr]=groupKey\n",
    "    reverseIndexMap[groupKey] = ptr\n",
    "    ptr=ptr+1\n",
    "    listOfDictonaries.append(tempDict)\n",
    "\n",
    "dictVectorizer = DictVectorizer(sparse=True)\n",
    "vector = dictVectorizer.fit_transform(listOfDictonaries)\n",
    "pairwiseSimilarity = cosine_similarity(vector)"
   ]
  },
  {
   "cell_type": "code",
   "execution_count": null,
   "id": "e22fead5-30f6-4c80-b89e-5738ccff4de9",
   "metadata": {
    "pycharm": {
     "name": "#%%\n"
    }
   },
   "outputs": [],
   "source": [
    "def printBookDetails(bookID):\n",
    "    print(dataset1[dataset1['ISBN']==bookID]['Book-Title'].values[0])\n",
    "    \"\"\"\n",
    "    print(\"Title:\", dataset1[dataset1['ISBN']==bookID]['Book-Title'].values[0])\n",
    "    print(\"Author:\",dataset1[dataset['ISBN']==bookID]['Book-Author'].values[0])\n",
    "    #print(\"Printing Book-ID:\",bookID)\n",
    "    print(\"\\n\")\n",
    "    \"\"\"\n",
    "\n",
    "def getTopRecommandations(bookID):\n",
    "    collaborative = []\n",
    "    row = reverseIndexMap[bookID]\n",
    "    print(\"Input Book:\")\n",
    "    printBookDetails(bookID)\n",
    "    \n",
    "    print(\"\\nRECOMMENDATIONS:\\n\")\n",
    "    \n",
    "    mn = 0\n",
    "    similar = []\n",
    "    for i in np.argsort(pairwiseSimilarity[row])[:-2][::-1]:\n",
    "          if dataset1[dataset1['ISBN']==indexMap[i]]['Book-Title'].values[0] not in similar:\n",
    "                if mn>=number:\n",
    "                      break\n",
    "                mn+=1\n",
    "                similar.append(dataset1[dataset1['ISBN']==indexMap[i]]['Book-Title'].values[0])\n",
    "                printBookDetails(indexMap[i])\n",
    "                collaborative.append(dataset1[dataset1['ISBN']==indexMap[i]]['Book-Title'].values[0])\n",
    "    return collaborative"
   ]
  },
  {
   "cell_type": "code",
   "execution_count": null,
   "id": "610de9c2-0d82-4830-8dd2-dd43478e3e10",
   "metadata": {
    "pycharm": {
     "name": "#%%\n"
    }
   },
   "outputs": [],
   "source": [
    "k = list(dataset1['Book-Title'])\n",
    "m = list(dataset1['ISBN'])\n",
    "\n",
    "collaborative = getTopRecommandations(m[k.index(bookName)])"
   ]
  },
  {
   "cell_type": "code",
   "execution_count": null,
   "id": "041d784c-aa25-4648-9f9b-2cebc69312b3",
   "metadata": {
    "pycharm": {
     "name": "#%%\n"
    }
   },
   "outputs": [],
   "source": [
    "popularity_threshold = 50\n",
    "\n",
    "user_count = dataset1['User-ID'].value_counts()\n",
    "data = dataset1[dataset1['User-ID'].isin(user_count[user_count >= popularity_threshold].index)]\n",
    "rat_count = data['Book-Rating'].value_counts()\n",
    "data = data[data['Book-Rating'].isin(rat_count[rat_count >= popularity_threshold].index)]\n",
    "\n",
    "matrix = data.pivot_table(index='User-ID', columns='ISBN', values = 'Book-Rating').fillna(0)"
   ]
  },
  {
   "cell_type": "code",
   "execution_count": null,
   "id": "aa7a7b23-2e2e-4422-acce-41dd87b5a690",
   "metadata": {
    "pycharm": {
     "name": "#%%\n"
    }
   },
   "outputs": [],
   "source": [
    "average_rating = pd.DataFrame(dataset1.groupby('ISBN')['Book-Rating'].mean())\n",
    "average_rating['ratingCount'] = pd.DataFrame(ratings.groupby('ISBN')['Book-Rating'].count())\n",
    "average_rating.sort_values('ratingCount', ascending=False).head()"
   ]
  },
  {
   "cell_type": "code",
   "execution_count": null,
   "id": "3a3f6728-2989-415f-9bc3-456d3240091b",
   "metadata": {
    "pycharm": {
     "name": "#%%\n"
    }
   },
   "outputs": [],
   "source": [
    "isbn = new_books.loc[new_books['Book-Title'] == bookName].reset_index(drop = True).iloc[0]['ISBN']\n",
    "row = matrix[isbn]\n",
    "correlation = pd.DataFrame(matrix.corrwith(row), columns = ['Pearson Corr'])\n",
    "corr = correlation.join(average_rating['ratingCount'])\n",
    "\n",
    "res = corr.sort_values('Pearson Corr', ascending=False).head(number+1)[1:].index\n",
    "corr_books = pd.merge(pd.DataFrame(res, columns = ['ISBN']), new_books, on='ISBN')\n",
    "print(\"\\n Recommended Books: \\n\")\n",
    "corr_books"
   ]
  },
  {
   "cell_type": "markdown",
   "id": "2a50f387-2695-4dcd-816f-a5df8a633253",
   "metadata": {
    "pycharm": {
     "name": "#%% md\n"
    }
   },
   "source": [
    "##  Nearest Neighbours Based"
   ]
  },
  {
   "cell_type": "code",
   "execution_count": null,
   "id": "81332b28-d7b7-4fe5-b714-e32f8133b31c",
   "metadata": {
    "pycharm": {
     "name": "#%%\n"
    }
   },
   "outputs": [],
   "source": [
    "data = (dataset1.groupby(by = ['Book-Title'])['Book-Rating'].count().reset_index().\n",
    "        rename(columns = {'Book-Rating': 'Total-Rating'})[['Book-Title', 'Total-Rating']])\n",
    "\n",
    "result = pd.merge(data, dataset1, on='Book-Title', left_index = False)\n",
    "result = result[result['Total-Rating'] >= popularity_threshold]\n",
    "result = result.reset_index(drop = True)\n",
    "\n",
    "matrix = result.pivot_table(index = 'Book-Title', columns = 'User-ID', values = 'Book-Rating').fillna(0)\n",
    "up_matrix = csr_matrix(matrix)"
   ]
  },
  {
   "cell_type": "code",
   "execution_count": null,
   "id": "b8ca5565-6c67-4774-91d7-be9d9914d555",
   "metadata": {
    "pycharm": {
     "name": "#%%\n"
    }
   },
   "outputs": [],
   "source": [
    "model = NearestNeighbors(metric = 'cosine', algorithm = 'brute')\n",
    "model.fit(up_matrix)\n",
    "\n",
    "distances, indices = model.kneighbors(matrix.loc[bookName].values.reshape(1, -1), n_neighbors = number+1)\n",
    "print(\"\\nRecommended books:\\n\")\n",
    "for i in range(0, len(distances.flatten())):\n",
    "    if i > 0:\n",
    "        print(matrix.index[indices.flatten()[i]]) "
   ]
  },
  {
   "cell_type": "markdown",
   "id": "e74fe877-636c-491e-a020-e9846861afed",
   "metadata": {
    "pycharm": {
     "name": "#%% md\n"
    }
   },
   "source": [
    "## Content Based"
   ]
  },
  {
   "cell_type": "code",
   "execution_count": null,
   "id": "2eca914d-fbde-4b18-84c2-7863f0bc2f39",
   "metadata": {
    "pycharm": {
     "name": "#%%\n"
    }
   },
   "outputs": [],
   "source": [
    "popularity_threshold = 80\n",
    "popular_book = df[df['Total-Ratings'] >= popularity_threshold]\n",
    "popular_book = popular_book.reset_index(drop = True)\n",
    "popular_book.shape"
   ]
  },
  {
   "cell_type": "code",
   "execution_count": null,
   "id": "dea50f4b-15de-47dc-91c6-4a52a8ca01dc",
   "metadata": {
    "pycharm": {
     "name": "#%%\n"
    }
   },
   "outputs": [],
   "source": [
    "tf = TfidfVectorizer(ngram_range=(1, 2), min_df = 1, stop_words='english')\n",
    "tfidf_matrix = tf.fit_transform(popular_book['Book-Title'])\n",
    "tfidf_matrix.shape"
   ]
  },
  {
   "cell_type": "code",
   "execution_count": null,
   "id": "ac39c176-f097-4289-bc88-692f438b569d",
   "metadata": {
    "pycharm": {
     "name": "#%%\n"
    }
   },
   "outputs": [],
   "source": [
    "normalized_df = tfidf_matrix.astype(np.float32)\n",
    "cosine_similarities = cosine_similarity(normalized_df, normalized_df)\n",
    "cosine_similarities.shape"
   ]
  },
  {
   "cell_type": "code",
   "execution_count": null,
   "id": "e6b83397-58bc-47db-a21d-4fa1a6820a3c",
   "metadata": {
    "pycharm": {
     "name": "#%%\n"
    }
   },
   "outputs": [],
   "source": [
    "print(\"Recommended Books:\\n\")\n",
    "isbn = new_books.loc[new_books['Book-Title'] == bookName].reset_index(drop = True).iloc[0]['ISBN']\n",
    "content = []\n",
    "\n",
    "idx = popular_book.index[popular_book['ISBN'] == isbn].tolist()[0]\n",
    "similar_indices = cosine_similarities[idx].argsort()[::-1]\n",
    "similar_items = []\n",
    "for i in similar_indices:\n",
    "    if popular_book['Book-Title'][i] != bookName and popular_book['Book-Title'][i] not in similar_items and len(similar_items) < number:\n",
    "        similar_items.append(popular_book['Book-Title'][i])\n",
    "        content.append(popular_book['Book-Title'][i])\n",
    "\n",
    "for book in similar_items:\n",
    "    print(book)"
   ]
  },
  {
   "cell_type": "markdown",
   "id": "36917b7b-5663-4899-855a-b3c8a9134bb4",
   "metadata": {
    "pycharm": {
     "name": "#%% md\n"
    }
   },
   "source": [
    "## Hybrid Approach (Content+Collaborative) "
   ]
  },
  {
   "cell_type": "code",
   "execution_count": null,
   "id": "b97a5732-f64c-4329-9e1a-220d58fd0869",
   "metadata": {
    "pycharm": {
     "name": "#%%\n"
    }
   },
   "outputs": [],
   "source": [
    "z = list()\n",
    "k = float(1/number)\n",
    "for x in range(number):\n",
    "      z.append(1-k*x)\n",
    "\n",
    "dictISBN = {}\n",
    "for x in collaborative:\n",
    "      dictISBN[x] = z[collaborative.index(x)]\n",
    "\n",
    "for x in content:\n",
    "    if x not in dictISBN:\n",
    "        dictISBN[x] = z[content.index(x)]\n",
    "    else:\n",
    "        dictISBN[x] += z[content.index(x)]\n",
    "\n",
    "ISBN = dict(sorted(dictISBN.items(),key=operator.itemgetter(1),reverse=True))\n",
    "w=0\n",
    "print(\"Input Book:\\n\")\n",
    "print(bookName)\n",
    "print(\"\\nRecommended Books:\\n\")\n",
    "for x in ISBN.keys():\n",
    "    if w>=number:\n",
    "        break\n",
    "    w+=1\n",
    "    print(x)"
   ]
  }
 ],
 "metadata": {
  "kernelspec": {
   "display_name": "Python 3 (ipykernel)",
   "language": "python",
   "name": "python3"
  },
  "language_info": {
   "codemirror_mode": {
    "name": "ipython",
    "version": 3
   },
   "file_extension": ".py",
   "mimetype": "text/x-python",
   "name": "python",
   "nbconvert_exporter": "python",
   "pygments_lexer": "ipython3",
   "version": "3.8.12"
  }
 },
 "nbformat": 4,
 "nbformat_minor": 5
}