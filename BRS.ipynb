{
 "cells": [
  {
   "cell_type": "code",
   "execution_count": null,
   "id": "ff3d0dc8-4492-4120-bbae-68a4379c5075",
   "metadata": {},
   "outputs": [],
   "source": [
    "import re\n",
    "import pickle\n",
    "import operator\n",
    "import numpy as np\n",
    "import pandas as pd\n",
    "import seaborn as sns\n",
    "import matplotlib.pyplot as plt\n",
    "from collections import Counter"
   ]
  },
  {
   "cell_type": "markdown",
   "id": "2b64d163-2d1f-406e-ab9c-e1f06a57c04f",
   "metadata": {},
   "source": [
    "Dataset"
   ]
  },
  {
   "cell_type": "code",
   "execution_count": null,
   "id": "ac3a8027-04fe-437a-a855-a9b41e6aa85b",
   "metadata": {},
   "outputs": [],
   "source": [
    "books = pd.read_csv(\"BRS-Dataset/Books.csv\")\n",
    "users = pd.read_csv(\"BRS-Dataset/Users.csv\")\n",
    "ratings = pd.read_csv(\"BRS-Dataset/Book-Ratings.csv\")"
   ]
  },
  {
   "cell_type": "code",
   "execution_count": null,
   "id": "f4941742-87e8-4c71-a73b-696af50c04c9",
   "metadata": {},
   "outputs": [],
   "source": [
    "print(\"Books Data:    \", books.shape)\n",
    "print(\"Users Data:    \", users.shape)\n",
    "print(\"Books-ratings: \", ratings.shape)"
   ]
  },
  {
   "cell_type": "markdown",
   "id": "e429b271-f06c-4669-b6fa-ee982735a5c8",
   "metadata": {},
   "source": [
    "### Processing\n",
    "\n",
    "### Books Dataset Processing"
   ]
  },
  {
   "cell_type": "code",
   "execution_count": null,
   "id": "9bb145ff-6b0a-4ba3-8951-22013fb173b3",
   "metadata": {},
   "outputs": [],
   "source": [
    "## Printing the header of the column names\n",
    "print(\"Columns: \", list(books.columns))\n"
   ]
  },
  {
   "cell_type": "code",
   "execution_count": null,
   "id": "3dd91659-67eb-48ed-a789-d2a2a3f2f391",
   "metadata": {},
   "outputs": [],
   "source": [
    "\n",
    "books"
   ]
  },
  {
   "cell_type": "code",
   "execution_count": null,
   "id": "fc5fc784-9651-4149-819b-ed66db36e824",
   "metadata": {},
   "outputs": [],
   "source": [
    "## Drop URL columns\n",
    "books.drop(['Image-URL-S', 'Image-URL-M', 'Image-URL-L'], axis=1, inplace=True)\n",
    "books.head()"
   ]
  },
  {
   "cell_type": "code",
   "execution_count": null,
   "id": "c9b11af9-ea44-49f3-bb0f-33bfb63e3119",
   "metadata": {},
   "outputs": [],
   "source": [
    "## Sort values by alphabet\n",
    "Alphabetized = books.sort_values(by=['Book-Title'], ascending = True)\n",
    "Alphabetized"
   ]
  },
  {
   "cell_type": "code",
   "execution_count": null,
   "id": "9906cba8-a6c1-4695-ba17-c0f5d52eea58",
   "metadata": {},
   "outputs": [],
   "source": [
    "## Checking the datatypes of the column \n",
    "books.dtypes"
   ]
  },
  {
   "cell_type": "code",
   "execution_count": null,
   "id": "bfc06eb6-8f74-4db6-b784-3afa4b39bd51",
   "metadata": {},
   "outputs": [],
   "source": [
    "# What is the shape of this DataFrame? How many columns does each row have? How many rows are there?\n",
    "books.info()"
   ]
  },
  {
   "cell_type": "code",
   "execution_count": null,
   "id": "950ae04a-172a-4920-9a61-9f567a398402",
   "metadata": {},
   "outputs": [],
   "source": [
    "## Checking for null values\n",
    "books.isnull().sum() "
   ]
  },
  {
   "cell_type": "code",
   "execution_count": null,
   "id": "723e40f4-0154-4434-8d0b-8b6941d3c2cb",
   "metadata": {},
   "outputs": [],
   "source": [
    "## Checking the location for null values for Book-Author\n",
    "books.loc[books['Book-Author'].isnull(),:]"
   ]
  },
  {
   "cell_type": "code",
   "execution_count": null,
   "id": "46579eb1-8ef1-4273-a006-08f9baae4e6d",
   "metadata": {},
   "outputs": [],
   "source": [
    "## Checking the location for null values for Publisher\n",
    "books.loc[books['Publisher'].isnull(),:]"
   ]
  },
  {
   "cell_type": "code",
   "execution_count": null,
   "id": "066816d0-6266-432f-8ca8-14b6675c2b5d",
   "metadata": {},
   "outputs": [],
   "source": [
    "# Checking for column Year-of-publication\n",
    "books['Year-Of-Publication'].unique()"
   ]
  },
  {
   "cell_type": "code",
   "execution_count": null,
   "id": "2ca2cb94-05e3-49e8-ab36-eb4f46daba12",
   "metadata": {},
   "outputs": [],
   "source": [
    "## Checking the location  for DK Publishing Inc\n",
    "books.loc[books['Year-Of-Publication'] == 'DK Publishing Inc',:]"
   ]
  },
  {
   "cell_type": "code",
   "execution_count": null,
   "id": "b7d06e65-b5dc-4cf1-b132-67608d8e4dc3",
   "metadata": {},
   "outputs": [],
   "source": [
    "books.loc[books['Year-Of-Publication'] == 'Gallimard',:]"
   ]
  },
  {
   "cell_type": "code",
   "execution_count": null,
   "id": "182e478f-53d0-4601-b63e-0c195d5f0c28",
   "metadata": {},
   "outputs": [],
   "source": [
    "books.at[209538 ,'Publisher'] = 'DK Publishing Inc'\n",
    "books.at[209538 ,'Year-Of-Publication'] = 2000\n",
    "books.at[209538 ,'Book-Title'] = 'DK Readers: Creating the X-Men, How It All Began (Level 4: Proficient Readers)'\n",
    "books.at[209538 ,'Book-Author'] = 'Michael Teitelbaum'\n",
    "\n",
    "books.at[221678 ,'Publisher'] = 'DK Publishing Inc'\n",
    "books.at[221678 ,'Year-Of-Publication'] = 2000\n",
    "books.at[209538 ,'Book-Title'] = 'DK Readers: Creating the X-Men, How Comic Books Come to Life (Level 4: Proficient Readers)'\n",
    "books.at[209538 ,'Book-Author'] = 'James Buckley'\n",
    "\n",
    "books.at[220731 ,'Publisher'] = 'Gallimard'\n",
    "books.at[220731 ,'Year-Of-Publication'] = '2003'\n",
    "books.at[209538 ,'Book-Title'] = 'Peuple du ciel - Suivi de Les bergers '\n",
    "books.at[209538 ,'Book-Author'] = 'Jean-Marie Gustave Le ClÃ?Â©zio'"
   ]
  },
  {
   "cell_type": "code",
   "execution_count": null,
   "id": "abe012a0-8d24-4fa4-a00d-7e9f0dc4815b",
   "metadata": {},
   "outputs": [],
   "source": [
    "## Converting year of publication in Numbers\n",
    "books['Year-Of-Publication'] = books['Year-Of-Publication'].astype(int)"
   ]
  },
  {
   "cell_type": "code",
   "execution_count": null,
   "id": "85bdcc93-69fe-4778-a8ed-77a9b18df4aa",
   "metadata": {},
   "outputs": [],
   "source": [
    "print(sorted(list(books['Year-Of-Publication'].unique())))"
   ]
  },
  {
   "cell_type": "code",
   "execution_count": null,
   "id": "2517bd5d-13a7-4082-9485-5a652c03d19a",
   "metadata": {},
   "outputs": [],
   "source": [
    "## Replacing Invalid years with max year\n",
    "count = Counter(books['Year-Of-Publication'])\n",
    "[k for k, v in count.items() if v == max(count.values())]"
   ]
  },
  {
   "cell_type": "code",
   "execution_count": null,
   "id": "d17408cf-fe84-4437-8081-6cd111de3e58",
   "metadata": {},
   "outputs": [],
   "source": [
    "books.loc[books['Year-Of-Publication'] > 2021, 'Year-Of-Publication'] = 2002\n",
    "books.loc[books['Year-Of-Publication'] == 0, 'Year-Of-Publication'] = 2002"
   ]
  },
  {
   "cell_type": "code",
   "execution_count": null,
   "id": "3be5ffd2-0abe-4092-97c9-d84d0509c907",
   "metadata": {},
   "outputs": [],
   "source": [
    "## Uppercasing all alphabets in ISBN\n",
    "books['ISBN'] = books['ISBN'].str.upper()"
   ]
  },
  {
   "cell_type": "code",
   "execution_count": null,
   "id": "72191e0b-9373-472c-9593-a2239bf514a5",
   "metadata": {},
   "outputs": [],
   "source": [
    "## Drop duplicate rows\n",
    "books.drop_duplicates(keep='last', inplace=True) \n",
    "books.reset_index(drop = True, inplace = True)"
   ]
  },
  {
   "cell_type": "code",
   "execution_count": null,
   "id": "5f06085f-aacc-4c97-a782-67d3c0e7da29",
   "metadata": {},
   "outputs": [],
   "source": [
    "books.info()"
   ]
  },
  {
   "cell_type": "code",
   "execution_count": null,
   "id": "b7ee5ac2-0894-4b94-8c04-0995f5340ff2",
   "metadata": {},
   "outputs": [],
   "source": [
    "books.head()"
   ]
  },
  {
   "cell_type": "markdown",
   "id": "78054afa-df62-43f7-9cca-4ca0546d2794",
   "metadata": {},
   "source": [
    "### User Dataset Processing"
   ]
  },
  {
   "cell_type": "code",
   "execution_count": null,
   "id": "734fb060-f907-470c-85e0-860d764abd44",
   "metadata": {},
   "outputs": [],
   "source": [
    "## Checking the columns for User Dataset\n",
    "print(\"Columns: \", list(users.columns))\n",
    "users.head()"
   ]
  },
  {
   "cell_type": "code",
   "execution_count": null,
   "id": "034b5eed-b652-441a-b78c-72eea5fc6b83",
   "metadata": {},
   "outputs": [],
   "source": [
    "## Checking null values\n",
    "print(users.isna().sum())"
   ]
  },
  {
   "cell_type": "code",
   "execution_count": null,
   "id": "3d0cbf10-b8e6-46b3-a8df-d763d08e17f3",
   "metadata": {},
   "outputs": [],
   "source": [
    "## Check for all values present in Age column\n",
    "print(sorted(list(users['Age'].unique())))"
   ]
  },
  {
   "cell_type": "code",
   "execution_count": null,
   "id": "d2942a00-5807-4ddb-81da-212beb488e52",
   "metadata": {},
   "outputs": [],
   "source": [
    "## Getting the User age for 10 - 80\n",
    "required = users[users['Age'] <= 80]\n",
    "required = required[required['Age'] >= 10]"
   ]
  },
  {
   "cell_type": "code",
   "execution_count": null,
   "id": "febe4838-ea4b-4351-b293-7ba3587d557b",
   "metadata": {},
   "outputs": [],
   "source": [
    "mean = round(required['Age'].mean())   \n",
    "mean"
   ]
  },
  {
   "cell_type": "code",
   "execution_count": null,
   "id": "015c5219-27f6-4406-84c4-2289fc2e5bd4",
   "metadata": {},
   "outputs": [],
   "source": [
    "users.loc[users['Age'] > 80, 'Age'] = mean    #outliers with age grater than 80 are substituted with mean \n",
    "users.loc[users['Age'] < 10, 'Age'] = mean    #outliers with age less than 10 years are substitued with mean\n",
    "users['Age'] = users['Age'].fillna(mean)      #filling null values with mean\n",
    "users['Age'] = users['Age'].astype(int)       #changing Datatype to int\n"
   ]
  },
  {
   "cell_type": "code",
   "execution_count": null,
   "id": "aee50e73-a30d-4c8c-a53c-bc810c112c4d",
   "metadata": {},
   "outputs": [],
   "source": [
    "list_ = users.Location.str.split(', ')\n",
    "\n",
    "city = []\n",
    "state = []\n",
    "country = []\n",
    "count_no_state = 0    \n",
    "count_no_country = 0\n",
    "\n",
    "for i in range(0,len(list_)):\n",
    "    if list_[i][0] == ' ' or list_[i][0] == '' or list_[i][0]=='n/a' or list_[i][0] == ',':  #removing invalid entries too\n",
    "        city.append('other')\n",
    "    else:\n",
    "        city.append(list_[i][0].lower())\n",
    "\n",
    "    if(len(list_[i])<2):\n",
    "        state.append('other')\n",
    "        country.append('other')\n",
    "        count_no_state += 1\n",
    "        count_no_country += 1\n",
    "    else:\n",
    "        if list_[i][1] == ' ' or list_[i][1] == '' or list_[i][1]=='n/a' or list_[i][1] == ',':   #removing invalid entries \n",
    "            state.append('other')\n",
    "            count_no_state += 1            \n",
    "        else:\n",
    "            state.append(list_[i][1].lower())\n",
    "        \n",
    "        if(len(list_[i])<3):\n",
    "            country.append('other')\n",
    "            count_no_country += 1\n",
    "        else:\n",
    "            if list_[i][2] == ''or list_[i][1] == ',' or list_[i][2] == ' ' or list_[i][2] == 'n/a':\n",
    "                country.append('other')\n",
    "                count_no_country += 1\n",
    "            else:\n",
    "                country.append(list_[i][2].lower())\n",
    "        \n",
    "users = users.drop('Location',axis=1)\n",
    "\n",
    "temp = []\n",
    "for ent in city:\n",
    "    c = ent.split('/')            #handling cases where city/state entries from city list as state is already given \n",
    "    temp.append(c[0])\n",
    "\n",
    "df_city = pd.DataFrame(temp,columns=['City'])\n",
    "df_state = pd.DataFrame(state,columns=['State'])\n",
    "df_country = pd.DataFrame(country,columns=['Country'])\n",
    "\n",
    "users = pd.concat([users, df_city], axis=1)\n",
    "users = pd.concat([users, df_state], axis=1)\n",
    "users = pd.concat([users, df_country], axis=1)\n",
    "\n",
    "print(count_no_country)   #printing the number of countries didnt have any values \n",
    "print(count_no_state)     #printing the states which didnt have any values"
   ]
  },
  {
   "cell_type": "code",
   "execution_count": null,
   "id": "314657b4-34e1-4612-94e9-20543a7b12e2",
   "metadata": {},
   "outputs": [],
   "source": [
    "## Drop duplicate rows\n",
    "users.drop_duplicates(keep='last', inplace=True)\n",
    "users.reset_index(drop=True, inplace=True)\n"
   ]
  },
  {
   "cell_type": "code",
   "execution_count": null,
   "id": "c833acab-aac8-4acc-926c-8dca201ac325",
   "metadata": {},
   "outputs": [],
   "source": [
    "users.info()"
   ]
  },
  {
   "cell_type": "code",
   "execution_count": null,
   "id": "3f1bafaa-fddf-4795-97bb-c8e4f21f31ef",
   "metadata": {},
   "outputs": [],
   "source": [
    "users.head()"
   ]
  },
  {
   "cell_type": "code",
   "execution_count": null,
   "id": "b4e87492-2c49-4cc3-9417-1bb0847cf8a3",
   "metadata": {},
   "outputs": [],
   "source": [
    "users"
   ]
  },
  {
   "cell_type": "markdown",
   "id": "f02f6d45-1a26-4f43-a2fb-cc737ab97ad3",
   "metadata": {},
   "source": [
    "### Book-Ratings Dataset Processing"
   ]
  },
  {
   "cell_type": "code",
   "execution_count": null,
   "id": "4d0fe1ff-368c-4675-b9fc-930f52ab6dd2",
   "metadata": {},
   "outputs": [],
   "source": [
    "ratings"
   ]
  },
  {
   "cell_type": "code",
   "execution_count": null,
   "id": "ec8dc51c-003e-431c-9734-e4e21ecfef0f",
   "metadata": {},
   "outputs": [],
   "source": [
    "## Checking the columns for Book-Ratings Dataset\n",
    "print(\"Columns: \", list(ratings.columns))\n",
    "ratings.head()"
   ]
  },
  {
   "cell_type": "code",
   "execution_count": null,
   "id": "250dfb9a-db3e-478d-bf39-58e55216c54e",
   "metadata": {},
   "outputs": [],
   "source": [
    "## Checking for null values\n",
    "ratings.isnull().sum() "
   ]
  },
  {
   "cell_type": "code",
   "execution_count": null,
   "id": "56ac0ee3-e67c-4d90-8381-187fb8d1b681",
   "metadata": {},
   "outputs": [],
   "source": [
    "## checking all ratings number or not\n",
    "print(is_numeric_dtype(ratings['Book-Rating']))"
   ]
  },
  {
   "cell_type": "code",
   "execution_count": null,
   "id": "af54e36b-8d23-4327-96de-a4f069e2c717",
   "metadata": {},
   "outputs": [],
   "source": [
    "## checking User-ID contains only number or not\n",
    "print(is_numeric_dtype(ratings['User-ID']))"
   ]
  },
  {
   "cell_type": "code",
   "execution_count": null,
   "id": "16872b12-6690-4d33-80f3-e8096da506d7",
   "metadata": {},
   "outputs": [],
   "source": [
    "## checking ISBN\n",
    "flag = 0\n",
    "k =[]\n",
    "reg = \"[^A-Za-z0-9]\"\n",
    "\n",
    "for x in ratings['ISBN']:\n",
    "    z = re.search(reg,x)    \n",
    "    if z:\n",
    "        flag = 1\n",
    "\n",
    "if flag == 1:\n",
    "    print(\"False\")\n",
    "else:\n",
    "    print(\"True\")"
   ]
  },
  {
   "cell_type": "code",
   "execution_count": null,
   "id": "b1de39ae-7ed7-4d6d-8edb-690db6372a2c",
   "metadata": {},
   "outputs": [],
   "source": [
    "## removing extra characters from ISBN (from ratings dataset) existing in books dataset\n",
    "bookISBN = books['ISBN'].tolist() \n",
    "reg = \"[^A-Za-z0-9]\" \n",
    "for index, row_Value in ratings.iterrows():\n",
    "    z = re.search(reg, row_Value['ISBN'])    \n",
    "    if z:\n",
    "        f = re.sub(reg,\"\",row_Value['ISBN'])\n",
    "        if f in bookISBN:\n",
    "            ratings.at[index , 'ISBN'] = f"
   ]
  },
  {
   "cell_type": "code",
   "execution_count": null,
   "id": "4a21675a-26cb-49d0-96cf-b3babffe019c",
   "metadata": {},
   "outputs": [],
   "source": [
    "## Uppercasing all alphabets in ISBN\n",
    "ratings['ISBN'] = ratings['ISBN'].str.upper()"
   ]
  },
  {
   "cell_type": "code",
   "execution_count": null,
   "id": "f15e934d-e32c-4bf2-9060-5230046b3955",
   "metadata": {},
   "outputs": [],
   "source": [
    "## Drop duplicate rows\n",
    "ratings.drop_duplicates(keep='last', inplace=True)\n",
    "ratings.reset_index(drop=True, inplace=True)"
   ]
  },
  {
   "cell_type": "code",
   "execution_count": null,
   "id": "14978726-02c3-4b4d-9bbe-69f594119b8e",
   "metadata": {},
   "outputs": [],
   "source": [
    "ratings.info()"
   ]
  },
  {
   "cell_type": "code",
   "execution_count": null,
   "id": "26099ed1-f181-4765-bf50-421999513501",
   "metadata": {},
   "outputs": [],
   "source": [
    "ratings.head()"
   ]
  },
  {
   "cell_type": "code",
   "execution_count": null,
   "id": "60df0a22-6c30-431d-bf5f-a90009900abf",
   "metadata": {},
   "outputs": [],
   "source": [
    "ratings"
   ]
  },
  {
   "cell_type": "markdown",
   "id": "77336656-4de7-4cbe-a787-66d76ffd1217",
   "metadata": {},
   "source": [
    "### Merging all the Tables Together"
   ]
  },
  {
   "cell_type": "markdown",
   "id": "1f3b6f49-11e9-4714-b78a-87af4cf8c597",
   "metadata": {},
   "source": [
    "### Merging Books, Users, Ratings table "
   ]
  },
  {
   "cell_type": "code",
   "execution_count": null,
   "id": "720da81e-0913-42cc-8eab-e47b57c61032",
   "metadata": {},
   "outputs": [],
   "source": [
    "dataset = pd.merge(books, ratings, on='ISBN', how='inner')\n",
    "dataset = pd.merge(dataset, users, on='User-ID', how='inner')\n",
    "dataset.info()"
   ]
  },
  {
   "cell_type": "markdown",
   "id": "4bffb66a-10d9-4c1b-9d65-e1822d167da7",
   "metadata": {},
   "source": [
    "### Divide complete data on the basis of Implicit and Explicit ratings datasets"
   ]
  },
  {
   "cell_type": "code",
   "execution_count": null,
   "id": "1ca8cc4b-3d2f-4a27-b08a-8cf6794b2b3d",
   "metadata": {},
   "outputs": [],
   "source": [
    "## Explicit Ratings Dataset\n",
    "dataset1 = dataset[dataset['Book-Rating'] != 0]\n",
    "dataset1 = dataset1.reset_index(drop = True)\n",
    "dataset1.shape"
   ]
  },
  {
   "cell_type": "code",
   "execution_count": null,
   "id": "1550ce69-5feb-44a3-82ad-6d2549e41d08",
   "metadata": {},
   "outputs": [],
   "source": [
    "## Implicit Ratings Dataset\n",
    "dataset2 = dataset[dataset['Book-Rating'] == 0]\n",
    "dataset2 = dataset2.reset_index(drop = True)\n",
    "dataset2.shape"
   ]
  },
  {
   "cell_type": "code",
   "execution_count": null,
   "id": "7a5e61e1-52e5-4146-a0cd-a5bcc0b6cae2",
   "metadata": {},
   "outputs": [],
   "source": [
    "dataset1.head()"
   ]
  },
  {
   "cell_type": "code",
   "execution_count": null,
   "id": "3f32c3ef-4346-42c6-975b-596e8adeb7a1",
   "metadata": {},
   "outputs": [],
   "source": [
    "dataset1"
   ]
  },
  {
   "cell_type": "markdown",
   "id": "ed6c0361-bcef-48b5-bcb1-15a2245b9ed7",
   "metadata": {},
   "source": [
    "### Data Visualization"
   ]
  },
  {
   "cell_type": "code",
   "execution_count": null,
   "id": "2a525692-8170-4ff2-b188-fe3d1f8b2ef2",
   "metadata": {},
   "outputs": [],
   "source": [
    "publications = {}\n",
    "for year in books['Year-Of-Publication']:\n",
    "    if str(year) not in publications:\n",
    "        publications[str(year)] = 0\n",
    "    publications[str(year)] +=1\n",
    "\n",
    "publications = {k:v for k, v in sorted(publications.items())}\n",
    "\n",
    "fig = plt.figure(figsize =(55, 15))\n",
    "plt.bar(list(publications.keys()),list(publications.values()), color = 'purple')\n",
    "plt.ylabel(\"Number of books published\")\n",
    "plt.xlabel(\"Year of Publication\")\n",
    "plt.title(\"Number of books published yearly\")\n",
    "plt.margins(x = 0)\n",
    "plt.show()"
   ]
  },
  {
   "cell_type": "code",
   "execution_count": null,
   "id": "7ce5123a-5680-471b-b319-7bd13cecbe81",
   "metadata": {},
   "outputs": [],
   "source": [
    "!pip3 install seaborn"
   ]
  },
  {
   "cell_type": "code",
   "execution_count": null,
   "id": "e2d6d28c-cabf-4150-9215-6cd824ff318a",
   "metadata": {},
   "outputs": [],
   "source": [
    "plt.figure(figsize=(15,6))\n",
    "sns.countplot(y=\"Book-Author\", data=books,order=books['Book-Author'].value_counts().index[0:15])\n",
    "plt.title(\"No of books by each author (Top 15)\")"
   ]
  },
  {
   "cell_type": "code",
   "execution_count": null,
   "id": "41cddc9c-59b4-4028-a0b4-71d916d1c108",
   "metadata": {},
   "outputs": [],
   "source": [
    "plt.figure(figsize=(15,6))\n",
    "sns.countplot(y=\"Publisher\", data=books,order=books['Publisher'].value_counts().index[0:15])\n",
    "plt.title(\"No of books published each publisher (Top 15)\")"
   ]
  },
  {
   "cell_type": "code",
   "execution_count": null,
   "id": "9cf6e0d0-738d-4c07-8483-ebdfff57fd3d",
   "metadata": {},
   "outputs": [],
   "source": [
    "plt.figure(figsize=(8,6))\n",
    "sns.countplot(x=\"Book-Rating\", data=ratings)"
   ]
  },
  {
   "cell_type": "code",
   "execution_count": null,
   "id": "531fa3e8-451c-495c-a115-85f2453656fd",
   "metadata": {},
   "outputs": [],
   "source": [
    "## Explicit Ratings\n",
    "plt.figure(figsize=(8,6))\n",
    "data = ratings[ratings['Book-Rating'] != 0]\n",
    "sns.countplot(x=\"Book-Rating\", data=data)\n",
    "plt.title(\"Explicit Ratings\")"
   ]
  },
  {
   "cell_type": "code",
   "execution_count": null,
   "id": "05d6cca7-ff9c-4129-a34d-45a42a59bbc7",
   "metadata": {},
   "outputs": [],
   "source": [
    "plt.figure(figsize=(8,6))\n",
    "users.Age.hist(bins=[10*i for i in range(1, 10)])     \n",
    "plt.title('Age Distribution')\n",
    "plt.xlabel('Age')\n",
    "plt.ylabel('Count')\n",
    "plt.show()"
   ]
  },
  {
   "cell_type": "code",
   "execution_count": null,
   "id": "7419f7a3-5038-4386-be96-ea3d2e5e7436",
   "metadata": {},
   "outputs": [],
   "source": [
    "plt.figure(figsize=(20,6))\n",
    "sns.countplot(x=\"City\", data=users,order=users['City'].value_counts().index[0:15])\n",
    "plt.title(\"No of readers from each city (Top 15)\")"
   ]
  },
  {
   "cell_type": "code",
   "execution_count": null,
   "id": "ddb5557f-7a89-465f-ad09-e590fafa83b9",
   "metadata": {},
   "outputs": [],
   "source": [
    "plt.figure(figsize=(20,6))\n",
    "sns.countplot(x=\"State\", data=users,order=users['State'].value_counts().index[0:15])\n",
    "plt.title(\"No of readers from each state (Top 15)\")"
   ]
  },
  {
   "cell_type": "code",
   "execution_count": null,
   "id": "6e6db5b5-7990-4f16-ac60-a03b53c99826",
   "metadata": {},
   "outputs": [],
   "source": [
    "plt.figure(figsize=(15,8))\n",
    "sns.countplot(y=\"Country\", data=users, order=users['Country'].value_counts().index[0:10])\n",
    "plt.title(\"No of readers from each country (Top 10)\")"
   ]
  },
  {
   "cell_type": "code",
   "execution_count": null,
   "id": "987e591c-e641-4fcb-a118-1cb4f0a2e37a",
   "metadata": {},
   "outputs": [],
   "source": [
    "data=users[users['Country']=='usa']\n",
    "plt.figure(figsize=(20,6))\n",
    "sns.countplot(x=\"State\", data=data,order=data['State'].value_counts().index[0:15])\n",
    "plt.title(\"No of readers from states of USA (Top 15)\")"
   ]
  },
  {
   "cell_type": "code",
   "execution_count": null,
   "id": "2553798e-cc93-4eb3-8f2f-1fa803a66a3d",
   "metadata": {},
   "outputs": [],
   "source": [
    "plt.figure(figsize=(15,8))\n",
    "sns.countplot(y=\"Book-Title\", data=dataset, order=dataset['Book-Title'].value_counts().index[0:15])\n",
    "plt.title(\"Number of Ratings for a book (Top 15)\")"
   ]
  },
  {
   "cell_type": "markdown",
   "id": "53375a96-4623-4ba2-92d4-3fe5855dc08b",
   "metadata": {},
   "source": [
    "### Book Recommondation System"
   ]
  },
  {
   "cell_type": "code",
   "execution_count": null,
   "id": "a6dbddfe-d4a6-4a48-9386-cd304b9baf59",
   "metadata": {},
   "outputs": [],
   "source": [
    "bookName = input(\"Enter a book name: \")\n",
    "number = int(input(\"Enter number of books to recommend: \"))"
   ]
  },
  {
   "cell_type": "markdown",
   "id": "f2680deb-c597-4721-be92-29fe2b6d0789",
   "metadata": {},
   "source": [
    "### Popular Books in the Collection"
   ]
  },
  {
   "cell_type": "code",
   "execution_count": null,
   "id": "592f538c-cb2d-44f9-be79-424f1e886636",
   "metadata": {},
   "outputs": [],
   "source": [
    "def popularity_based(dataframe, n):\n",
    "    if n >= 1 and n <= len(dataframe):\n",
    "        data = pd.DataFrame(dataframe.groupby('ISBN')['Book-Rating'].count()).sort_values('Book-Rating', ascending=False).head(n)\n",
    "        result = pd.merge(data, books, on='ISBN', left_index = False)\n",
    "        return result\n",
    "    return \"Invalid number of books entered!!\""
   ]
  },
  {
   "cell_type": "markdown",
   "id": "cfab1923-6fcb-47fc-9852-fe8dd417c421",
   "metadata": {},
   "source": [
    "print(\"Top\", number, \"Popular books are: \")\n",
    "popularity_based(dataset1, number)"
   ]
  },
  {
   "cell_type": "markdown",
   "id": "593753bb-ef2c-47ce-9bd5-bbc1d2a7a9c6",
   "metadata": {},
   "source": [
    "### Popular Books in the given place"
   ]
  },
  {
   "cell_type": "code",
   "execution_count": null,
   "id": "0b3ac80e-e4b1-4973-9470-8544e1ba7ba7",
   "metadata": {},
   "outputs": [],
   "source": [
    "def search_unique_places(dataframe, place):\n",
    "    place = place.lower()\n",
    "\n",
    "    if place in list(dataframe['City'].unique()):\n",
    "        return dataframe[dataframe['City'] == place]\n",
    "    elif place in list(dataframe['State'].unique()):\n",
    "        return dataframe[dataframe['State'] == place]\n",
    "    elif place in list(dataframe['Country'].unique()):\n",
    "        return dataframe[dataframe['Country'] == place]\n",
    "    else:\n",
    "        return \"Invalid Entry\""
   ]
  },
  {
   "cell_type": "code",
   "execution_count": null,
   "id": "a3f52de4-583d-4761-b297-ec29828a7937",
   "metadata": {},
   "outputs": [],
   "source": [
    "place = input(\"Enter the name of place: \")\n",
    "data = search_unique_places(dataset1, place)\n",
    "\n",
    "if isinstance(data, pd.DataFrame):\n",
    "    data = popularity_based(data, number)\n",
    "\n",
    "data"
   ]
  },
  {
   "cell_type": "markdown",
   "id": "fee82773-05a7-4b3c-8d3b-a20b2e576d46",
   "metadata": {},
   "source": [
    "### Books by same author, publisher of given book name"
   ]
  },
  {
   "cell_type": "code",
   "execution_count": null,
   "id": "c8f04643-8e9b-485d-bda6-f5beb8fe4077",
   "metadata": {},
   "outputs": [],
   "source": [
    "def printBook(k, n):\n",
    "    z = k['Book-Title'].unique()\n",
    "    for x in range(len(z)):\n",
    "        print(z[x])\n",
    "        if x >= n-1:\n",
    "            break"
   ]
  },
  {
   "cell_type": "code",
   "execution_count": null,
   "id": "b5c525cf-b0d5-4a8f-ae49-88c6dbb01fa8",
   "metadata": {},
   "outputs": [],
   "source": [
    "def get_books(dataframe, name, n):\n",
    "    print(\"\\nBooks by same Author:\\n\")\n",
    "    au = dataframe['Book-Author'].unique()\n",
    "\n",
    "    data = dataset2[dataset2['Book-Title'] != name]\n",
    "\n",
    "    if au[0] in list(data['Book-Author'].unique()):\n",
    "        k2 = data[data['Book-Author'] == au[0]]\n",
    "    k2 = k2.sort_values(by=['Book-Rating'])\n",
    "    printBook(k2, n)\n",
    "\n",
    "    print(\"\\n\\nBooks by same Publisher:\\n\")\n",
    "    au = dataframe['Publisher'].unique()\n",
    "\n",
    "    if au[0] in list(data['Publisher'].unique()):\n",
    "        k2 = pd.DataFrame(data[data['Publisher'] == au[0]])\n",
    "    k2=k2.sort_values(by=['Book-Rating']) \n",
    "    printBook(k2, n)"
   ]
  },
  {
   "cell_type": "code",
   "execution_count": null,
   "id": "5c962db3-5802-432f-8114-852d7cae360c",
   "metadata": {},
   "outputs": [],
   "source": [
    "if bookName in list(dataset1['Book-Title'].unique()):\n",
    "    d = dataset2[dataset2['Book-Title'] == bookName]\n",
    "    get_books(d, bookName, number)\n",
    "else:\n",
    "    print(\"Invalid Book Name!!\")"
   ]
  },
  {
   "cell_type": "markdown",
   "id": "8ff5d065-f2bd-463e-9980-24ebf2dea8d2",
   "metadata": {},
   "source": [
    "### Books Popular by Year"
   ]
  },
  {
   "cell_type": "code",
   "execution_count": null,
   "id": "b7b7cbd2-6909-4908-92b6-7854cb7be2c6",
   "metadata": {},
   "outputs": [],
   "source": [
    "data = pd.DataFrame(dataset1.groupby('ISBN')['Book-Rating'].count()).sort_values('Book-Rating', ascending=False)\n",
    "data = pd.merge(data, books, on='ISBN', left_index = False)\n",
    "\n",
    "years = set()\n",
    "indices = []\n",
    "for ind, row in data.iterrows():\n",
    "    if row['Year-Of-Publication'] in years:\n",
    "        indices.append(ind)\n",
    "    else:\n",
    "        years.add(row['Year-Of-Publication'])\n",
    "\n",
    "data = data.drop(indices)\n",
    "data = data.drop('Book-Rating', axis = 1)\n",
    "data = data.sort_values('Year-Of-Publication')\n",
    "\n",
    "pd.set_option(\"display.max_rows\", None, \"display.max_columns\", None)\n",
    "data"
   ]
  },
  {
   "cell_type": "markdown",
   "id": "6de2b836-6eeb-43ff-9407-f1df494fdc2c",
   "metadata": {},
   "source": [
    "### Average Ratings"
   ]
  },
  {
   "cell_type": "markdown",
   "id": "8a6241a4-8e0e-42c7-b33e-6d08a56f4958",
   "metadata": {},
   "source": [
    "###  Collaborative Filtering \n"
   ]
  },
  {
   "cell_type": "markdown",
   "id": "916ea5a8-b47f-4270-936c-9c0acc39f918",
   "metadata": {
    "jp-MarkdownHeadingCollapsed": true,
    "tags": []
   },
   "source": [
    "### Selecting Books with Total Ratings"
   ]
  }
 ],
 "metadata": {
  "kernelspec": {
   "display_name": "Python 3 (ipykernel)",
   "language": "python",
   "name": "python3"
  },
  "language_info": {
   "codemirror_mode": {
    "name": "ipython",
    "version": 3
   },
   "file_extension": ".py",
   "mimetype": "text/x-python",
   "name": "python",
   "nbconvert_exporter": "python",
   "pygments_lexer": "ipython3",
   "version": "3.8.12"
  }
 },
 "nbformat": 4,
 "nbformat_minor": 5
}
