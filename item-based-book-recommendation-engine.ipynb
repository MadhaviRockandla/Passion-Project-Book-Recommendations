{
 "cells": [
  {
   "cell_type": "code",
   "execution_count": 1,
   "metadata": {
    "_cell_guid": "b1076dfc-b9ad-4769-8c92-a6c4dae69d19",
    "_uuid": "8f2839f25d086af736a60e9eeb907d3b93b6e0e5"
   },
   "outputs": [],
   "source": [
    "# Importing Libraries\n",
    "import pandas as pd"
   ]
  },
  {
   "cell_type": "code",
   "execution_count": 2,
   "metadata": {},
   "outputs": [],
   "source": [
    "# Adjusting pandas dataframe settings\n",
    "pd.set_option('display.max_columns', 500)"
   ]
  },
  {
   "cell_type": "code",
   "execution_count": 3,
   "metadata": {},
   "outputs": [
    {
     "name": "stderr",
     "output_type": "stream",
     "text": [
      "/var/folders/26/nhlrw59x2f1d6s6ljr___mm40000gp/T/ipykernel_39157/698788534.py:2: DtypeWarning: Columns (3) have mixed types. Specify dtype option on import or set low_memory=False.\n",
      "  books = pd.read_csv(\"BRS-Dataset/Books.csv\", low_memory='False')\n"
     ]
    }
   ],
   "source": [
    "# Reading Dataframes\n",
    "books = pd.read_csv(\"BRS-Dataset/Books.csv\", low_memory='False')\n",
    "ratings = pd.read_csv(\"BRS-Dataset/Book-Ratings.csv\", low_memory='False')\n",
    "users = pd.read_csv(\"BRS-Dataset/Users.csv\", low_memory='False')"
   ]
  },
  {
   "cell_type": "code",
   "execution_count": 4,
   "metadata": {},
   "outputs": [
    {
     "data": {
      "text/plain": [
       "(1032345, 12)"
      ]
     },
     "execution_count": 4,
     "metadata": {},
     "output_type": "execute_result"
    }
   ],
   "source": [
    "# Merging Dataframes\n",
    "temp_df = books.merge(ratings, how='left', on='ISBN')\n",
    "final_df = temp_df.merge(users, how='left', on='User-ID')\n",
    "final_df.shape"
   ]
  },
  {
   "cell_type": "code",
   "execution_count": 5,
   "metadata": {},
   "outputs": [],
   "source": [
    "# Data Preprocessing\n",
    "final_df.drop(['Image-URL-S', 'Image-URL-M','Image-URL-L'], axis=1, inplace=True)\n",
    "final_df.dropna(inplace=True)\n",
    "\n",
    "final_df['User-ID'] = final_df['User-ID'].astype('int')\n",
    "final_df=final_df[final_df[\"Book-Rating\"]>0]"
   ]
  },
  {
   "cell_type": "code",
   "execution_count": 6,
   "metadata": {},
   "outputs": [
    {
     "data": {
      "text/plain": [
       "User-ID\n",
       "98391     5689\n",
       "153662    1845\n",
       "235105    1020\n",
       "171118     962\n",
       "16795      959\n",
       "          ... \n",
       "120886       1\n",
       "120862       1\n",
       "120861       1\n",
       "120852       1\n",
       "278852       1\n",
       "Name: Book-Title, Length: 40543, dtype: int64"
      ]
     },
     "execution_count": 6,
     "metadata": {},
     "output_type": "execute_result"
    }
   ],
   "source": [
    "# Analysis of Data\n",
    "\n",
    "final_df.columns\n",
    "final_df['User-ID'].nunique() # 40543 unique Readers\n",
    "final_df['ISBN'].nunique() # 119945 unique ISBN number (books)\n",
    "final_df['Book-Title'].nunique() # 109210 unique Books.\n",
    "final_df['Book-Author'].nunique() # 50883 unique Author.\n",
    "final_df['Publisher'].nunique() # 9749 unique Publisher.\n",
    "final_df['Book-Rating'].nunique() # 10 unique Rating (1-10).\n",
    "\n",
    "final_df.groupby('User-ID')['Book-Title'].agg('count').sort_values(ascending=False)"
   ]
  },
  {
   "cell_type": "code",
   "execution_count": 7,
   "metadata": {},
   "outputs": [
    {
     "data": {
      "text/plain": [
       "Book-Author\n",
       "Stephen King         3488\n",
       "Nora Roberts         2138\n",
       "John Grisham         1670\n",
       "James Patterson      1559\n",
       "J. K. Rowling        1375\n",
       "                     ... \n",
       "James Hawkins           1\n",
       "James Henry Gray        1\n",
       "James Henry Rubin       1\n",
       "James Hoffman           1\n",
       "Ã?Â?pictÃ?Â¨te          1\n",
       "Name: ISBN, Length: 50883, dtype: int64"
      ]
     },
     "execution_count": 7,
     "metadata": {},
     "output_type": "execute_result"
    }
   ],
   "source": [
    "final_df.groupby('Book-Author')['ISBN'].agg('count').sort_values(ascending=False)"
   ]
  },
  {
   "cell_type": "code",
   "execution_count": 8,
   "metadata": {},
   "outputs": [
    {
     "data": {
      "text/html": [
       "<div>\n",
       "<style scoped>\n",
       "    .dataframe tbody tr th:only-of-type {\n",
       "        vertical-align: middle;\n",
       "    }\n",
       "\n",
       "    .dataframe tbody tr th {\n",
       "        vertical-align: top;\n",
       "    }\n",
       "\n",
       "    .dataframe thead th {\n",
       "        text-align: right;\n",
       "    }\n",
       "</style>\n",
       "<table border=\"1\" class=\"dataframe\">\n",
       "  <thead>\n",
       "    <tr style=\"text-align: right;\">\n",
       "      <th></th>\n",
       "      <th>Book-Title</th>\n",
       "    </tr>\n",
       "    <tr>\n",
       "      <th>ISBN</th>\n",
       "      <th></th>\n",
       "    </tr>\n",
       "  </thead>\n",
       "  <tbody>\n",
       "    <tr>\n",
       "      <th>0971880107</th>\n",
       "      <td>473</td>\n",
       "    </tr>\n",
       "    <tr>\n",
       "      <th>0316666343</th>\n",
       "      <td>473</td>\n",
       "    </tr>\n",
       "    <tr>\n",
       "      <th>0385504209</th>\n",
       "      <td>373</td>\n",
       "    </tr>\n",
       "    <tr>\n",
       "      <th>0312195516</th>\n",
       "      <td>227</td>\n",
       "    </tr>\n",
       "    <tr>\n",
       "      <th>059035342X</th>\n",
       "      <td>224</td>\n",
       "    </tr>\n",
       "    <tr>\n",
       "      <th>...</th>\n",
       "      <td>...</td>\n",
       "    </tr>\n",
       "    <tr>\n",
       "      <th>0385492081</th>\n",
       "      <td>82</td>\n",
       "    </tr>\n",
       "    <tr>\n",
       "      <th>0385486804</th>\n",
       "      <td>82</td>\n",
       "    </tr>\n",
       "    <tr>\n",
       "      <th>0449212602</th>\n",
       "      <td>81</td>\n",
       "    </tr>\n",
       "    <tr>\n",
       "      <th>0375700757</th>\n",
       "      <td>80</td>\n",
       "    </tr>\n",
       "    <tr>\n",
       "      <th>0312305060</th>\n",
       "      <td>80</td>\n",
       "    </tr>\n",
       "  </tbody>\n",
       "</table>\n",
       "<p>100 rows × 1 columns</p>\n",
       "</div>"
      ],
      "text/plain": [
       "            Book-Title\n",
       "ISBN                  \n",
       "0971880107         473\n",
       "0316666343         473\n",
       "0385504209         373\n",
       "0312195516         227\n",
       "059035342X         224\n",
       "...                ...\n",
       "0385492081          82\n",
       "0385486804          82\n",
       "0449212602          81\n",
       "0375700757          80\n",
       "0312305060          80\n",
       "\n",
       "[100 rows x 1 columns]"
      ]
     },
     "execution_count": 8,
     "metadata": {},
     "output_type": "execute_result"
    }
   ],
   "source": [
    "final_df.groupby('ISBN').agg({'Book-Title':'count'}).sort_values(by='Book-Title',ascending=False).head(100)"
   ]
  },
  {
   "cell_type": "code",
   "execution_count": 9,
   "metadata": {},
   "outputs": [
    {
     "data": {
      "text/plain": [
       "User-ID\n",
       "98391     5689\n",
       "153662    1845\n",
       "235105    1020\n",
       "171118     962\n",
       "16795      959\n",
       "          ... \n",
       "120886       1\n",
       "120862       1\n",
       "120861       1\n",
       "120852       1\n",
       "278852       1\n",
       "Name: Book-Rating, Length: 40543, dtype: int64"
      ]
     },
     "execution_count": 9,
     "metadata": {},
     "output_type": "execute_result"
    }
   ],
   "source": [
    "final_df.groupby('User-ID')['Book-Rating'].agg('count').sort_values(ascending=False)"
   ]
  },
  {
   "cell_type": "code",
   "execution_count": 10,
   "metadata": {},
   "outputs": [
    {
     "data": {
      "text/plain": [
       "139.65891472868216"
      ]
     },
     "execution_count": 10,
     "metadata": {},
     "output_type": "execute_result"
    }
   ],
   "source": [
    "# We can calculate the ratings of the books and eliminate the rare books by determining a threshold which is 85 in this case by removing the main dataframe.\n",
    "# Finally, we have common books which are rated more than 85.\n",
    "rating_book = pd.DataFrame(final_df['Book-Title'].value_counts())\n",
    "final_df['Book-Title'].value_counts().mean() # 2.4688\n",
    "\n",
    "rare_books = rating_book[rating_book['Book-Title'] <= 85].index\n",
    "\n",
    "common_books = final_df[~final_df[\"Book-Title\"].isin(rare_books)]\n",
    "common_books['Book-Title'].value_counts().mean() # 139.6589"
   ]
  },
  {
   "cell_type": "code",
   "execution_count": 11,
   "metadata": {},
   "outputs": [
    {
     "data": {
      "text/plain": [
       "(8742, 129)"
      ]
     },
     "execution_count": 11,
     "metadata": {},
     "output_type": "execute_result"
    }
   ],
   "source": [
    "# Creating User-Item Matrix Dataframe\n",
    "user_book_matrix = common_books.pivot_table(index=['User-ID'], columns=['Book-Title'], values='Book-Rating')\n",
    "user_book_matrix.shape"
   ]
  },
  {
   "cell_type": "code",
   "execution_count": 12,
   "metadata": {},
   "outputs": [
    {
     "data": {
      "text/plain": [
       "User-ID\n",
       "143253    10.0\n",
       "110912    10.0\n",
       "125519    10.0\n",
       "48306     10.0\n",
       "179733    10.0\n",
       "          ... \n",
       "278798     NaN\n",
       "278800     NaN\n",
       "278836     NaN\n",
       "278844     NaN\n",
       "278846     NaN\n",
       "Name: Bridget Jones's Diary, Length: 8742, dtype: float64"
      ]
     },
     "execution_count": 12,
     "metadata": {},
     "output_type": "execute_result"
    }
   ],
   "source": [
    "# Item based collaborative filtering engine provide us a relations between items that is books in this case, by looking their correlations each other.\n",
    "# If the correlations are quite similar, that means these books are similar according to maybe their properties, genres. Hence, we can recommend them to user.\n",
    "book_name = \"Bridget Jones's Diary\"\n",
    "\n",
    "def book_to_ISBN(name):\n",
    "    \"\"\"\n",
    "    This function gives us the ISBN number of the book for the name of the book which you want to learn ISBN number.\n",
    "    :param name: the name of the book\n",
    "    :return: ISBN; the books are identified by their respective ISBN\n",
    "    \"\"\"\n",
    "    ISBN = final_df[final_df['Book-Title'] == name][['ISBN']].iloc[0,0]\n",
    "    return ISBN\n",
    "\n",
    "ISBN_no = book_to_ISBN(book_name)\n",
    "\n",
    "book_df = user_book_matrix[book_name]\n",
    "book_df.sort_values(ascending=False)"
   ]
  },
  {
   "cell_type": "code",
   "execution_count": 13,
   "metadata": {},
   "outputs": [
    {
     "data": {
      "text/html": [
       "<div>\n",
       "<style scoped>\n",
       "    .dataframe tbody tr th:only-of-type {\n",
       "        vertical-align: middle;\n",
       "    }\n",
       "\n",
       "    .dataframe tbody tr th {\n",
       "        vertical-align: top;\n",
       "    }\n",
       "\n",
       "    .dataframe thead th {\n",
       "        text-align: right;\n",
       "    }\n",
       "</style>\n",
       "<table border=\"1\" class=\"dataframe\">\n",
       "  <thead>\n",
       "    <tr style=\"text-align: right;\">\n",
       "      <th></th>\n",
       "      <th>Correlation</th>\n",
       "    </tr>\n",
       "    <tr>\n",
       "      <th>Book-Title</th>\n",
       "      <th></th>\n",
       "    </tr>\n",
       "  </thead>\n",
       "  <tbody>\n",
       "    <tr>\n",
       "      <th>Dreamcatcher</th>\n",
       "      <td>1.000000</td>\n",
       "    </tr>\n",
       "    <tr>\n",
       "      <th>Bridget Jones's Diary</th>\n",
       "      <td>1.000000</td>\n",
       "    </tr>\n",
       "    <tr>\n",
       "      <th>Timeline</th>\n",
       "      <td>0.997176</td>\n",
       "    </tr>\n",
       "    <tr>\n",
       "      <th>Outlander</th>\n",
       "      <td>0.973124</td>\n",
       "    </tr>\n",
       "    <tr>\n",
       "      <th>The Alienist</th>\n",
       "      <td>0.967533</td>\n",
       "    </tr>\n",
       "    <tr>\n",
       "      <th>The Bonesetter's Daughter</th>\n",
       "      <td>0.901388</td>\n",
       "    </tr>\n",
       "    <tr>\n",
       "      <th>Interview with the Vampire</th>\n",
       "      <td>0.887412</td>\n",
       "    </tr>\n",
       "    <tr>\n",
       "      <th>Bel Canto: A Novel</th>\n",
       "      <td>0.886621</td>\n",
       "    </tr>\n",
       "    <tr>\n",
       "      <th>The Subtle Knife (His Dark Materials, Book 2)</th>\n",
       "      <td>0.885615</td>\n",
       "    </tr>\n",
       "    <tr>\n",
       "      <th>White Oleander : A Novel</th>\n",
       "      <td>0.881529</td>\n",
       "    </tr>\n",
       "    <tr>\n",
       "      <th>The Testament</th>\n",
       "      <td>0.854017</td>\n",
       "    </tr>\n",
       "    <tr>\n",
       "      <th>Fahrenheit 451</th>\n",
       "      <td>0.835619</td>\n",
       "    </tr>\n",
       "    <tr>\n",
       "      <th>The Five People You Meet in Heaven</th>\n",
       "      <td>0.805025</td>\n",
       "    </tr>\n",
       "    <tr>\n",
       "      <th>A Heartbreaking Work of Staggering Genius</th>\n",
       "      <td>0.802515</td>\n",
       "    </tr>\n",
       "    <tr>\n",
       "      <th>1st to Die: A Novel</th>\n",
       "      <td>0.798554</td>\n",
       "    </tr>\n",
       "    <tr>\n",
       "      <th>The Joy Luck Club</th>\n",
       "      <td>0.785714</td>\n",
       "    </tr>\n",
       "    <tr>\n",
       "      <th>Me Talk Pretty One Day</th>\n",
       "      <td>0.783109</td>\n",
       "    </tr>\n",
       "    <tr>\n",
       "      <th>A Prayer for Owen Meany</th>\n",
       "      <td>0.760886</td>\n",
       "    </tr>\n",
       "    <tr>\n",
       "      <th>Wild Animus</th>\n",
       "      <td>0.723339</td>\n",
       "    </tr>\n",
       "    <tr>\n",
       "      <th>While I Was Gone</th>\n",
       "      <td>0.714013</td>\n",
       "    </tr>\n",
       "    <tr>\n",
       "      <th>1984</th>\n",
       "      <td>0.707107</td>\n",
       "    </tr>\n",
       "    <tr>\n",
       "      <th>Little Altars Everywhere: A Novel</th>\n",
       "      <td>0.693722</td>\n",
       "    </tr>\n",
       "    <tr>\n",
       "      <th>American Gods</th>\n",
       "      <td>0.683130</td>\n",
       "    </tr>\n",
       "    <tr>\n",
       "      <th>Wicked: The Life and Times of the Wicked Witch of the West</th>\n",
       "      <td>0.680414</td>\n",
       "    </tr>\n",
       "    <tr>\n",
       "      <th>The Girls' Guide to Hunting and Fishing</th>\n",
       "      <td>0.640312</td>\n",
       "    </tr>\n",
       "    <tr>\n",
       "      <th>Empire Falls</th>\n",
       "      <td>0.629401</td>\n",
       "    </tr>\n",
       "    <tr>\n",
       "      <th>The Summons</th>\n",
       "      <td>0.610020</td>\n",
       "    </tr>\n",
       "    <tr>\n",
       "      <th>The Hobbit : The Enchanting Prelude to The Lord of the Rings</th>\n",
       "      <td>0.593989</td>\n",
       "    </tr>\n",
       "    <tr>\n",
       "      <th>When the Wind Blows</th>\n",
       "      <td>0.573539</td>\n",
       "    </tr>\n",
       "    <tr>\n",
       "      <th>The Pelican Brief</th>\n",
       "      <td>0.569061</td>\n",
       "    </tr>\n",
       "    <tr>\n",
       "      <th>Where the Heart Is (Oprah's Book Club (Paperback))</th>\n",
       "      <td>0.541971</td>\n",
       "    </tr>\n",
       "    <tr>\n",
       "      <th>Icy Sparks</th>\n",
       "      <td>0.534522</td>\n",
       "    </tr>\n",
       "    <tr>\n",
       "      <th>A Painted House</th>\n",
       "      <td>0.530429</td>\n",
       "    </tr>\n",
       "    <tr>\n",
       "      <th>High Fidelity</th>\n",
       "      <td>0.527778</td>\n",
       "    </tr>\n",
       "    <tr>\n",
       "      <th>The Cider House Rules</th>\n",
       "      <td>0.518937</td>\n",
       "    </tr>\n",
       "    <tr>\n",
       "      <th>The Brethren</th>\n",
       "      <td>0.514073</td>\n",
       "    </tr>\n",
       "    <tr>\n",
       "      <th>The Great Gatsby</th>\n",
       "      <td>0.514004</td>\n",
       "    </tr>\n",
       "    <tr>\n",
       "      <th>Dolores Claiborne</th>\n",
       "      <td>0.507093</td>\n",
       "    </tr>\n",
       "    <tr>\n",
       "      <th>The Divine Secrets of the Ya-Ya Sisterhood: A Novel</th>\n",
       "      <td>0.499188</td>\n",
       "    </tr>\n",
       "    <tr>\n",
       "      <th>The Nanny Diaries: A Novel</th>\n",
       "      <td>0.490605</td>\n",
       "    </tr>\n",
       "    <tr>\n",
       "      <th>A Time to Kill</th>\n",
       "      <td>0.482451</td>\n",
       "    </tr>\n",
       "    <tr>\n",
       "      <th>Stupid White Men ...and Other Sorry Excuses for the State of the Nation!</th>\n",
       "      <td>0.442513</td>\n",
       "    </tr>\n",
       "    <tr>\n",
       "      <th>Good in Bed</th>\n",
       "      <td>0.431428</td>\n",
       "    </tr>\n",
       "    <tr>\n",
       "      <th>Harry Potter and the Sorcerer's Stone (Book 1)</th>\n",
       "      <td>0.425628</td>\n",
       "    </tr>\n",
       "    <tr>\n",
       "      <th>Digital Fortress : A Thriller</th>\n",
       "      <td>0.422577</td>\n",
       "    </tr>\n",
       "    <tr>\n",
       "      <th>We Were the Mulvaneys</th>\n",
       "      <td>0.381914</td>\n",
       "    </tr>\n",
       "    <tr>\n",
       "      <th>The Pilot's Wife : A Novel</th>\n",
       "      <td>0.380148</td>\n",
       "    </tr>\n",
       "    <tr>\n",
       "      <th>Watership Down</th>\n",
       "      <td>0.377964</td>\n",
       "    </tr>\n",
       "    <tr>\n",
       "      <th>She's Come Undone (Oprah's Book Club)</th>\n",
       "      <td>0.370230</td>\n",
       "    </tr>\n",
       "    <tr>\n",
       "      <th>Brave New World</th>\n",
       "      <td>0.353553</td>\n",
       "    </tr>\n",
       "  </tbody>\n",
       "</table>\n",
       "</div>"
      ],
      "text/plain": [
       "                                                    Correlation\n",
       "Book-Title                                                     \n",
       "Dreamcatcher                                           1.000000\n",
       "Bridget Jones's Diary                                  1.000000\n",
       "Timeline                                               0.997176\n",
       "Outlander                                              0.973124\n",
       "The Alienist                                           0.967533\n",
       "The Bonesetter's Daughter                              0.901388\n",
       "Interview with the Vampire                             0.887412\n",
       "Bel Canto: A Novel                                     0.886621\n",
       "The Subtle Knife (His Dark Materials, Book 2)          0.885615\n",
       "White Oleander : A Novel                               0.881529\n",
       "The Testament                                          0.854017\n",
       "Fahrenheit 451                                         0.835619\n",
       "The Five People You Meet in Heaven                     0.805025\n",
       "A Heartbreaking Work of Staggering Genius              0.802515\n",
       "1st to Die: A Novel                                    0.798554\n",
       "The Joy Luck Club                                      0.785714\n",
       "Me Talk Pretty One Day                                 0.783109\n",
       "A Prayer for Owen Meany                                0.760886\n",
       "Wild Animus                                            0.723339\n",
       "While I Was Gone                                       0.714013\n",
       "1984                                                   0.707107\n",
       "Little Altars Everywhere: A Novel                      0.693722\n",
       "American Gods                                          0.683130\n",
       "Wicked: The Life and Times of the Wicked Witch ...     0.680414\n",
       "The Girls' Guide to Hunting and Fishing                0.640312\n",
       "Empire Falls                                           0.629401\n",
       "The Summons                                            0.610020\n",
       "The Hobbit : The Enchanting Prelude to The Lord...     0.593989\n",
       "When the Wind Blows                                    0.573539\n",
       "The Pelican Brief                                      0.569061\n",
       "Where the Heart Is (Oprah's Book Club (Paperback))     0.541971\n",
       "Icy Sparks                                             0.534522\n",
       "A Painted House                                        0.530429\n",
       "High Fidelity                                          0.527778\n",
       "The Cider House Rules                                  0.518937\n",
       "The Brethren                                           0.514073\n",
       "The Great Gatsby                                       0.514004\n",
       "Dolores Claiborne                                      0.507093\n",
       "The Divine Secrets of the Ya-Ya Sisterhood: A N...     0.499188\n",
       "The Nanny Diaries: A Novel                             0.490605\n",
       "A Time to Kill                                         0.482451\n",
       "Stupid White Men ...and Other Sorry Excuses for...     0.442513\n",
       "Good in Bed                                            0.431428\n",
       "Harry Potter and the Sorcerer's Stone (Book 1)         0.425628\n",
       "Digital Fortress : A Thriller                          0.422577\n",
       "We Were the Mulvaneys                                  0.381914\n",
       "The Pilot's Wife : A Novel                             0.380148\n",
       "Watership Down                                         0.377964\n",
       "She's Come Undone (Oprah's Book Club)                  0.370230\n",
       "Brave New World                                        0.353553"
      ]
     },
     "execution_count": 13,
     "metadata": {},
     "output_type": "execute_result"
    }
   ],
   "source": [
    "# Let's look at the correlations between books with selected book and sort the best.\n",
    "similar_to_book_name = user_book_matrix.corrwith(book_df)\n",
    "\n",
    "corr_book_name = pd.DataFrame(similar_to_book_name, columns=['Correlation'])\n",
    "corr_book_name.dropna(inplace=True)\n",
    "corr_book_name.sort_values(by='Correlation',ascending=False).head(50)"
   ]
  },
  {
   "cell_type": "code",
   "execution_count": 14,
   "metadata": {
    "tags": []
   },
   "outputs": [
    {
     "data": {
      "text/plain": [
       "['Dreamcatcher',\n",
       " \"Bridget Jones's Diary\",\n",
       " 'Timeline',\n",
       " 'Outlander',\n",
       " 'The Alienist',\n",
       " \"The Bonesetter's Daughter\",\n",
       " 'Interview with the Vampire',\n",
       " 'Bel Canto: A Novel',\n",
       " 'The Subtle Knife (His Dark Materials, Book 2)',\n",
       " 'White Oleander : A Novel']"
      ]
     },
     "execution_count": 14,
     "metadata": {},
     "output_type": "execute_result"
    }
   ],
   "source": [
    "# Creating recommendation list.\n",
    "recommended_list = corr_book_name.reset_index().sort_values(by=('Correlation'),ascending=False)['Book-Title'].head(10).to_list()\n",
    "recommended_list"
   ]
  }
 ],
 "metadata": {
  "kernelspec": {
   "display_name": "Python 3 (ipykernel)",
   "language": "python",
   "name": "python3"
  },
  "language_info": {
   "codemirror_mode": {
    "name": "ipython",
    "version": 3
   },
   "file_extension": ".py",
   "mimetype": "text/x-python",
   "name": "python",
   "nbconvert_exporter": "python",
   "pygments_lexer": "ipython3",
   "version": "3.8.12"
  }
 },
 "nbformat": 4,
 "nbformat_minor": 4
}
